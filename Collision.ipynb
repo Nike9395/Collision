{
 "cells": [
  {
   "cell_type": "code",
   "execution_count": 1,
   "metadata": {},
   "outputs": [],
   "source": [
    "import pandas as pd\n",
    "import numpy as np\n",
    "import matplotlib.pyplot as plt"
   ]
  },
  {
   "cell_type": "markdown",
   "metadata": {},
   "source": [
    "# Import Dataset #"
   ]
  },
  {
   "cell_type": "code",
   "execution_count": 9,
   "metadata": {},
   "outputs": [
    {
     "name": "stderr",
     "output_type": "stream",
     "text": [
      "/home/jupyterlab/conda/envs/python/lib/python3.6/site-packages/IPython/core/interactiveshell.py:3072: DtypeWarning: Columns (33) have mixed types.Specify dtype option on import or set low_memory=False.\n",
      "  interactivity=interactivity, compiler=compiler, result=result)\n"
     ]
    }
   ],
   "source": [
    "df=pd.read_csv('https://s3.us.cloud-object-storage.appdomain.cloud/cf-courses-data/CognitiveClass/DP0701EN/version-2/Data-Collisions.csv')"
   ]
  },
  {
   "cell_type": "code",
   "execution_count": 3,
   "metadata": {},
   "outputs": [
    {
     "data": {
      "text/html": [
       "<div>\n",
       "<style scoped>\n",
       "    .dataframe tbody tr th:only-of-type {\n",
       "        vertical-align: middle;\n",
       "    }\n",
       "\n",
       "    .dataframe tbody tr th {\n",
       "        vertical-align: top;\n",
       "    }\n",
       "\n",
       "    .dataframe thead th {\n",
       "        text-align: right;\n",
       "    }\n",
       "</style>\n",
       "<table border=\"1\" class=\"dataframe\">\n",
       "  <thead>\n",
       "    <tr style=\"text-align: right;\">\n",
       "      <th></th>\n",
       "      <th>SEVERITYCODE</th>\n",
       "      <th>X</th>\n",
       "      <th>Y</th>\n",
       "      <th>OBJECTID</th>\n",
       "      <th>INCKEY</th>\n",
       "      <th>COLDETKEY</th>\n",
       "      <th>REPORTNO</th>\n",
       "      <th>STATUS</th>\n",
       "      <th>ADDRTYPE</th>\n",
       "      <th>INTKEY</th>\n",
       "      <th>...</th>\n",
       "      <th>ROADCOND</th>\n",
       "      <th>LIGHTCOND</th>\n",
       "      <th>PEDROWNOTGRNT</th>\n",
       "      <th>SDOTCOLNUM</th>\n",
       "      <th>SPEEDING</th>\n",
       "      <th>ST_COLCODE</th>\n",
       "      <th>ST_COLDESC</th>\n",
       "      <th>SEGLANEKEY</th>\n",
       "      <th>CROSSWALKKEY</th>\n",
       "      <th>HITPARKEDCAR</th>\n",
       "    </tr>\n",
       "  </thead>\n",
       "  <tbody>\n",
       "    <tr>\n",
       "      <th>0</th>\n",
       "      <td>2</td>\n",
       "      <td>-122.323148</td>\n",
       "      <td>47.703140</td>\n",
       "      <td>1</td>\n",
       "      <td>1307</td>\n",
       "      <td>1307</td>\n",
       "      <td>3502005</td>\n",
       "      <td>Matched</td>\n",
       "      <td>Intersection</td>\n",
       "      <td>37475.0</td>\n",
       "      <td>...</td>\n",
       "      <td>Wet</td>\n",
       "      <td>Daylight</td>\n",
       "      <td>NaN</td>\n",
       "      <td>NaN</td>\n",
       "      <td>NaN</td>\n",
       "      <td>10</td>\n",
       "      <td>Entering at angle</td>\n",
       "      <td>0</td>\n",
       "      <td>0</td>\n",
       "      <td>N</td>\n",
       "    </tr>\n",
       "    <tr>\n",
       "      <th>1</th>\n",
       "      <td>1</td>\n",
       "      <td>-122.347294</td>\n",
       "      <td>47.647172</td>\n",
       "      <td>2</td>\n",
       "      <td>52200</td>\n",
       "      <td>52200</td>\n",
       "      <td>2607959</td>\n",
       "      <td>Matched</td>\n",
       "      <td>Block</td>\n",
       "      <td>NaN</td>\n",
       "      <td>...</td>\n",
       "      <td>Wet</td>\n",
       "      <td>Dark - Street Lights On</td>\n",
       "      <td>NaN</td>\n",
       "      <td>6354039.0</td>\n",
       "      <td>NaN</td>\n",
       "      <td>11</td>\n",
       "      <td>From same direction - both going straight - bo...</td>\n",
       "      <td>0</td>\n",
       "      <td>0</td>\n",
       "      <td>N</td>\n",
       "    </tr>\n",
       "    <tr>\n",
       "      <th>2</th>\n",
       "      <td>1</td>\n",
       "      <td>-122.334540</td>\n",
       "      <td>47.607871</td>\n",
       "      <td>3</td>\n",
       "      <td>26700</td>\n",
       "      <td>26700</td>\n",
       "      <td>1482393</td>\n",
       "      <td>Matched</td>\n",
       "      <td>Block</td>\n",
       "      <td>NaN</td>\n",
       "      <td>...</td>\n",
       "      <td>Dry</td>\n",
       "      <td>Daylight</td>\n",
       "      <td>NaN</td>\n",
       "      <td>4323031.0</td>\n",
       "      <td>NaN</td>\n",
       "      <td>32</td>\n",
       "      <td>One parked--one moving</td>\n",
       "      <td>0</td>\n",
       "      <td>0</td>\n",
       "      <td>N</td>\n",
       "    </tr>\n",
       "    <tr>\n",
       "      <th>3</th>\n",
       "      <td>1</td>\n",
       "      <td>-122.334803</td>\n",
       "      <td>47.604803</td>\n",
       "      <td>4</td>\n",
       "      <td>1144</td>\n",
       "      <td>1144</td>\n",
       "      <td>3503937</td>\n",
       "      <td>Matched</td>\n",
       "      <td>Block</td>\n",
       "      <td>NaN</td>\n",
       "      <td>...</td>\n",
       "      <td>Dry</td>\n",
       "      <td>Daylight</td>\n",
       "      <td>NaN</td>\n",
       "      <td>NaN</td>\n",
       "      <td>NaN</td>\n",
       "      <td>23</td>\n",
       "      <td>From same direction - all others</td>\n",
       "      <td>0</td>\n",
       "      <td>0</td>\n",
       "      <td>N</td>\n",
       "    </tr>\n",
       "    <tr>\n",
       "      <th>4</th>\n",
       "      <td>2</td>\n",
       "      <td>-122.306426</td>\n",
       "      <td>47.545739</td>\n",
       "      <td>5</td>\n",
       "      <td>17700</td>\n",
       "      <td>17700</td>\n",
       "      <td>1807429</td>\n",
       "      <td>Matched</td>\n",
       "      <td>Intersection</td>\n",
       "      <td>34387.0</td>\n",
       "      <td>...</td>\n",
       "      <td>Wet</td>\n",
       "      <td>Daylight</td>\n",
       "      <td>NaN</td>\n",
       "      <td>4028032.0</td>\n",
       "      <td>NaN</td>\n",
       "      <td>10</td>\n",
       "      <td>Entering at angle</td>\n",
       "      <td>0</td>\n",
       "      <td>0</td>\n",
       "      <td>N</td>\n",
       "    </tr>\n",
       "  </tbody>\n",
       "</table>\n",
       "<p>5 rows × 38 columns</p>\n",
       "</div>"
      ],
      "text/plain": [
       "   SEVERITYCODE           X          Y  OBJECTID  INCKEY  COLDETKEY REPORTNO  \\\n",
       "0             2 -122.323148  47.703140         1    1307       1307  3502005   \n",
       "1             1 -122.347294  47.647172         2   52200      52200  2607959   \n",
       "2             1 -122.334540  47.607871         3   26700      26700  1482393   \n",
       "3             1 -122.334803  47.604803         4    1144       1144  3503937   \n",
       "4             2 -122.306426  47.545739         5   17700      17700  1807429   \n",
       "\n",
       "    STATUS      ADDRTYPE   INTKEY  ... ROADCOND                LIGHTCOND  \\\n",
       "0  Matched  Intersection  37475.0  ...      Wet                 Daylight   \n",
       "1  Matched         Block      NaN  ...      Wet  Dark - Street Lights On   \n",
       "2  Matched         Block      NaN  ...      Dry                 Daylight   \n",
       "3  Matched         Block      NaN  ...      Dry                 Daylight   \n",
       "4  Matched  Intersection  34387.0  ...      Wet                 Daylight   \n",
       "\n",
       "  PEDROWNOTGRNT  SDOTCOLNUM SPEEDING ST_COLCODE  \\\n",
       "0           NaN         NaN      NaN         10   \n",
       "1           NaN   6354039.0      NaN         11   \n",
       "2           NaN   4323031.0      NaN         32   \n",
       "3           NaN         NaN      NaN         23   \n",
       "4           NaN   4028032.0      NaN         10   \n",
       "\n",
       "                                          ST_COLDESC  SEGLANEKEY  \\\n",
       "0                                  Entering at angle           0   \n",
       "1  From same direction - both going straight - bo...           0   \n",
       "2                             One parked--one moving           0   \n",
       "3                   From same direction - all others           0   \n",
       "4                                  Entering at angle           0   \n",
       "\n",
       "   CROSSWALKKEY  HITPARKEDCAR  \n",
       "0             0             N  \n",
       "1             0             N  \n",
       "2             0             N  \n",
       "3             0             N  \n",
       "4             0             N  \n",
       "\n",
       "[5 rows x 38 columns]"
      ]
     },
     "execution_count": 3,
     "metadata": {},
     "output_type": "execute_result"
    }
   ],
   "source": [
    "df.head()"
   ]
  },
  {
   "cell_type": "markdown",
   "metadata": {},
   "source": [
    "# Data preparation and Exploration #"
   ]
  },
  {
   "cell_type": "code",
   "execution_count": 10,
   "metadata": {},
   "outputs": [
    {
     "data": {
      "text/plain": [
       "(194673, 38)"
      ]
     },
     "execution_count": 10,
     "metadata": {},
     "output_type": "execute_result"
    }
   ],
   "source": [
    "df.shape"
   ]
  },
  {
   "cell_type": "code",
   "execution_count": 5,
   "metadata": {
    "collapsed": true,
    "jupyter": {
     "outputs_hidden": true
    }
   },
   "outputs": [
    {
     "data": {
      "text/plain": [
       "SEVERITYCODE        int64\n",
       "X                 float64\n",
       "Y                 float64\n",
       "OBJECTID            int64\n",
       "INCKEY              int64\n",
       "COLDETKEY           int64\n",
       "REPORTNO           object\n",
       "STATUS             object\n",
       "ADDRTYPE           object\n",
       "INTKEY            float64\n",
       "LOCATION           object\n",
       "EXCEPTRSNCODE      object\n",
       "EXCEPTRSNDESC      object\n",
       "SEVERITYCODE.1      int64\n",
       "SEVERITYDESC       object\n",
       "COLLISIONTYPE      object\n",
       "PERSONCOUNT         int64\n",
       "PEDCOUNT            int64\n",
       "PEDCYLCOUNT         int64\n",
       "VEHCOUNT            int64\n",
       "INCDATE            object\n",
       "INCDTTM            object\n",
       "JUNCTIONTYPE       object\n",
       "SDOT_COLCODE        int64\n",
       "SDOT_COLDESC       object\n",
       "INATTENTIONIND     object\n",
       "UNDERINFL          object\n",
       "WEATHER            object\n",
       "ROADCOND           object\n",
       "LIGHTCOND          object\n",
       "PEDROWNOTGRNT      object\n",
       "SDOTCOLNUM        float64\n",
       "SPEEDING           object\n",
       "ST_COLCODE         object\n",
       "ST_COLDESC         object\n",
       "SEGLANEKEY          int64\n",
       "CROSSWALKKEY        int64\n",
       "HITPARKEDCAR       object\n",
       "dtype: object"
      ]
     },
     "execution_count": 5,
     "metadata": {},
     "output_type": "execute_result"
    }
   ],
   "source": [
    "df.dtypes"
   ]
  },
  {
   "cell_type": "code",
   "execution_count": 5,
   "metadata": {},
   "outputs": [
    {
     "data": {
      "text/plain": [
       "1    136485\n",
       "2     58188\n",
       "Name: SEVERITYCODE, dtype: int64"
      ]
     },
     "execution_count": 5,
     "metadata": {},
     "output_type": "execute_result"
    }
   ],
   "source": [
    "df[\"SEVERITYCODE\"].value_counts()"
   ]
  },
  {
   "cell_type": "markdown",
   "metadata": {},
   "source": [
    "#### Drop useless columns ####\n",
    "- Drop attribute that obviously not useful\n",
    "- or just a description of another numeric value\n",
    "- or duplicated"
   ]
  },
  {
   "cell_type": "code",
   "execution_count": 14,
   "metadata": {},
   "outputs": [
    {
     "data": {
      "text/plain": [
       "Index(['SEVERITYCODE', 'X', 'Y', 'OBJECTID', 'INCKEY', 'COLDETKEY', 'REPORTNO',\n",
       "       'STATUS', 'ADDRTYPE', 'INTKEY', 'LOCATION', 'EXCEPTRSNCODE',\n",
       "       'EXCEPTRSNDESC', 'SEVERITYCODE.1', 'SEVERITYDESC', 'COLLISIONTYPE',\n",
       "       'PERSONCOUNT', 'PEDCOUNT', 'PEDCYLCOUNT', 'VEHCOUNT', 'INCDATE',\n",
       "       'INCDTTM', 'JUNCTIONTYPE', 'SDOT_COLCODE', 'SDOT_COLDESC',\n",
       "       'INATTENTIONIND', 'UNDERINFL', 'WEATHER', 'ROADCOND', 'LIGHTCOND',\n",
       "       'PEDROWNOTGRNT', 'SDOTCOLNUM', 'SPEEDING', 'ST_COLCODE', 'ST_COLDESC',\n",
       "       'SEGLANEKEY', 'CROSSWALKKEY', 'HITPARKEDCAR'],\n",
       "      dtype='object')"
      ]
     },
     "execution_count": 14,
     "metadata": {},
     "output_type": "execute_result"
    }
   ],
   "source": [
    "df.columns"
   ]
  },
  {
   "cell_type": "code",
   "execution_count": 11,
   "metadata": {
    "collapsed": true,
    "jupyter": {
     "outputs_hidden": true
    }
   },
   "outputs": [
    {
     "data": {
      "text/html": [
       "<div>\n",
       "<style scoped>\n",
       "    .dataframe tbody tr th:only-of-type {\n",
       "        vertical-align: middle;\n",
       "    }\n",
       "\n",
       "    .dataframe tbody tr th {\n",
       "        vertical-align: top;\n",
       "    }\n",
       "\n",
       "    .dataframe thead th {\n",
       "        text-align: right;\n",
       "    }\n",
       "</style>\n",
       "<table border=\"1\" class=\"dataframe\">\n",
       "  <thead>\n",
       "    <tr style=\"text-align: right;\">\n",
       "      <th></th>\n",
       "      <th>ADDRTYPE</th>\n",
       "      <th>JUNCTIONTYPE</th>\n",
       "      <th>COLLISIONTYPE</th>\n",
       "      <th>SDOT_COLDESC</th>\n",
       "      <th>ST_COLDESC</th>\n",
       "    </tr>\n",
       "  </thead>\n",
       "  <tbody>\n",
       "    <tr>\n",
       "      <th>0</th>\n",
       "      <td>Intersection</td>\n",
       "      <td>At Intersection (intersection related)</td>\n",
       "      <td>Angles</td>\n",
       "      <td>MOTOR VEHICLE STRUCK MOTOR VEHICLE, FRONT END ...</td>\n",
       "      <td>Entering at angle</td>\n",
       "    </tr>\n",
       "    <tr>\n",
       "      <th>1</th>\n",
       "      <td>Block</td>\n",
       "      <td>Mid-Block (not related to intersection)</td>\n",
       "      <td>Sideswipe</td>\n",
       "      <td>MOTOR VEHICLE STRUCK MOTOR VEHICLE, LEFT SIDE ...</td>\n",
       "      <td>From same direction - both going straight - bo...</td>\n",
       "    </tr>\n",
       "    <tr>\n",
       "      <th>2</th>\n",
       "      <td>Block</td>\n",
       "      <td>Mid-Block (not related to intersection)</td>\n",
       "      <td>Parked Car</td>\n",
       "      <td>MOTOR VEHICLE STRUCK MOTOR VEHICLE, REAR END</td>\n",
       "      <td>One parked--one moving</td>\n",
       "    </tr>\n",
       "    <tr>\n",
       "      <th>3</th>\n",
       "      <td>Block</td>\n",
       "      <td>Mid-Block (not related to intersection)</td>\n",
       "      <td>Other</td>\n",
       "      <td>MOTOR VEHICLE STRUCK MOTOR VEHICLE, FRONT END ...</td>\n",
       "      <td>From same direction - all others</td>\n",
       "    </tr>\n",
       "    <tr>\n",
       "      <th>4</th>\n",
       "      <td>Intersection</td>\n",
       "      <td>At Intersection (intersection related)</td>\n",
       "      <td>Angles</td>\n",
       "      <td>MOTOR VEHICLE STRUCK MOTOR VEHICLE, FRONT END ...</td>\n",
       "      <td>Entering at angle</td>\n",
       "    </tr>\n",
       "    <tr>\n",
       "      <th>5</th>\n",
       "      <td>Intersection</td>\n",
       "      <td>At Intersection (intersection related)</td>\n",
       "      <td>Angles</td>\n",
       "      <td>MOTOR VEHICLE STRUCK MOTOR VEHICLE, FRONT END ...</td>\n",
       "      <td>Entering at angle</td>\n",
       "    </tr>\n",
       "    <tr>\n",
       "      <th>6</th>\n",
       "      <td>Intersection</td>\n",
       "      <td>At Intersection (intersection related)</td>\n",
       "      <td>Angles</td>\n",
       "      <td>MOTOR VEHICLE STRUCK MOTOR VEHICLE, FRONT END ...</td>\n",
       "      <td>Entering at angle</td>\n",
       "    </tr>\n",
       "    <tr>\n",
       "      <th>7</th>\n",
       "      <td>Intersection</td>\n",
       "      <td>At Intersection (intersection related)</td>\n",
       "      <td>Cycles</td>\n",
       "      <td>PEDALCYCLIST STRUCK MOTOR VEHICLE FRONT END AT...</td>\n",
       "      <td>Vehicle Strikes Pedalcyclist</td>\n",
       "    </tr>\n",
       "    <tr>\n",
       "      <th>8</th>\n",
       "      <td>Block</td>\n",
       "      <td>Mid-Block (not related to intersection)</td>\n",
       "      <td>Parked Car</td>\n",
       "      <td>MOTOR VEHICLE STRUCK MOTOR VEHICLE, FRONT END ...</td>\n",
       "      <td>One parked--one moving</td>\n",
       "    </tr>\n",
       "    <tr>\n",
       "      <th>9</th>\n",
       "      <td>Intersection</td>\n",
       "      <td>At Intersection (intersection related)</td>\n",
       "      <td>Angles</td>\n",
       "      <td>MOTOR VEHICLE STRUCK MOTOR VEHICLE, FRONT END ...</td>\n",
       "      <td>Entering at angle</td>\n",
       "    </tr>\n",
       "  </tbody>\n",
       "</table>\n",
       "</div>"
      ],
      "text/plain": [
       "       ADDRTYPE                             JUNCTIONTYPE COLLISIONTYPE  \\\n",
       "0  Intersection   At Intersection (intersection related)        Angles   \n",
       "1         Block  Mid-Block (not related to intersection)     Sideswipe   \n",
       "2         Block  Mid-Block (not related to intersection)    Parked Car   \n",
       "3         Block  Mid-Block (not related to intersection)         Other   \n",
       "4  Intersection   At Intersection (intersection related)        Angles   \n",
       "5  Intersection   At Intersection (intersection related)        Angles   \n",
       "6  Intersection   At Intersection (intersection related)        Angles   \n",
       "7  Intersection   At Intersection (intersection related)        Cycles   \n",
       "8         Block  Mid-Block (not related to intersection)    Parked Car   \n",
       "9  Intersection   At Intersection (intersection related)        Angles   \n",
       "\n",
       "                                        SDOT_COLDESC  \\\n",
       "0  MOTOR VEHICLE STRUCK MOTOR VEHICLE, FRONT END ...   \n",
       "1  MOTOR VEHICLE STRUCK MOTOR VEHICLE, LEFT SIDE ...   \n",
       "2       MOTOR VEHICLE STRUCK MOTOR VEHICLE, REAR END   \n",
       "3  MOTOR VEHICLE STRUCK MOTOR VEHICLE, FRONT END ...   \n",
       "4  MOTOR VEHICLE STRUCK MOTOR VEHICLE, FRONT END ...   \n",
       "5  MOTOR VEHICLE STRUCK MOTOR VEHICLE, FRONT END ...   \n",
       "6  MOTOR VEHICLE STRUCK MOTOR VEHICLE, FRONT END ...   \n",
       "7  PEDALCYCLIST STRUCK MOTOR VEHICLE FRONT END AT...   \n",
       "8  MOTOR VEHICLE STRUCK MOTOR VEHICLE, FRONT END ...   \n",
       "9  MOTOR VEHICLE STRUCK MOTOR VEHICLE, FRONT END ...   \n",
       "\n",
       "                                          ST_COLDESC  \n",
       "0                                  Entering at angle  \n",
       "1  From same direction - both going straight - bo...  \n",
       "2                             One parked--one moving  \n",
       "3                   From same direction - all others  \n",
       "4                                  Entering at angle  \n",
       "5                                  Entering at angle  \n",
       "6                                  Entering at angle  \n",
       "7                       Vehicle Strikes Pedalcyclist  \n",
       "8                             One parked--one moving  \n",
       "9                                  Entering at angle  "
      ]
     },
     "execution_count": 11,
     "metadata": {},
     "output_type": "execute_result"
    }
   ],
   "source": [
    "df0=df[[\"ADDRTYPE\",\"JUNCTIONTYPE\",\"COLLISIONTYPE\",\"SDOT_COLDESC\",\"ST_COLDESC\"]]\n",
    "df0.head(10)"
   ]
  },
  {
   "cell_type": "markdown",
   "metadata": {},
   "source": [
    "ADDRTYPE and JUNCTIONTYPE are similar value--> Keep ADDRTYPE\\\n",
    "COLLISIONTYPE & ST_COLDESC--> keep ST_COLCODE"
   ]
  },
  {
   "cell_type": "code",
   "execution_count": 12,
   "metadata": {},
   "outputs": [],
   "source": [
    "df=df.drop(['OBJECTID', 'REPORTNO','LOCATION','EXCEPTRSNDESC', 'SEVERITYCODE.1', 'SEVERITYDESC',\n",
    "            'JUNCTIONTYPE','COLLISIONTYPE','SDOT_COLDESC','ST_COLDESC',],axis=1)"
   ]
  },
  {
   "cell_type": "code",
   "execution_count": 13,
   "metadata": {},
   "outputs": [
    {
     "data": {
      "text/plain": [
       "(194673, 28)"
      ]
     },
     "execution_count": 13,
     "metadata": {},
     "output_type": "execute_result"
    }
   ],
   "source": [
    "df.shape"
   ]
  },
  {
   "cell_type": "markdown",
   "metadata": {},
   "source": [
    "### dealing with missing data ###\n",
    "- drop the column that with too much lost information"
   ]
  },
  {
   "cell_type": "code",
   "execution_count": 10,
   "metadata": {
    "collapsed": true,
    "jupyter": {
     "outputs_hidden": true
    }
   },
   "outputs": [
    {
     "data": {
      "text/plain": [
       "SEVERITYCODE           0\n",
       "X                   5334\n",
       "Y                   5334\n",
       "INCKEY                 0\n",
       "COLDETKEY              0\n",
       "STATUS                 0\n",
       "ADDRTYPE            1926\n",
       "INTKEY            129603\n",
       "EXCEPTRSNCODE     109862\n",
       "PERSONCOUNT            0\n",
       "PEDCOUNT               0\n",
       "PEDCYLCOUNT            0\n",
       "VEHCOUNT               0\n",
       "INCDATE                0\n",
       "INCDTTM                0\n",
       "SDOT_COLCODE           0\n",
       "INATTENTIONIND    164868\n",
       "UNDERINFL           4884\n",
       "WEATHER             5081\n",
       "ROADCOND            5012\n",
       "LIGHTCOND           5170\n",
       "PEDROWNOTGRNT     190006\n",
       "SDOTCOLNUM         79737\n",
       "SPEEDING          185340\n",
       "ST_COLCODE            18\n",
       "SEGLANEKEY             0\n",
       "CROSSWALKKEY           0\n",
       "HITPARKEDCAR           0\n",
       "dtype: int64"
      ]
     },
     "execution_count": 10,
     "metadata": {},
     "output_type": "execute_result"
    }
   ],
   "source": [
    "df.isnull().sum()"
   ]
  },
  {
   "cell_type": "code",
   "execution_count": 14,
   "metadata": {},
   "outputs": [],
   "source": [
    "df=df.drop([\"INTKEY\",\"EXCEPTRSNCODE\",\"SDOTCOLNUM\"],axis=1)"
   ]
  },
  {
   "cell_type": "code",
   "execution_count": 15,
   "metadata": {},
   "outputs": [
    {
     "data": {
      "text/plain": [
       "(194673, 25)"
      ]
     },
     "execution_count": 15,
     "metadata": {},
     "output_type": "execute_result"
    }
   ],
   "source": [
    "df.shape"
   ]
  },
  {
   "cell_type": "markdown",
   "metadata": {},
   "source": [
    "- as we notice that, the feature \"SPEEDING\", \"INATTENTIONIND\", \"PEDROWNOTGRNT\", are only filled with value \"Y\" or \"N\" if the situation is confirmed. \\\n",
    "So it possible to fill it's value as dummy values. "
   ]
  },
  {
   "cell_type": "code",
   "execution_count": 16,
   "metadata": {},
   "outputs": [
    {
     "data": {
      "text/plain": [
       "0    185340\n",
       "1      9333\n",
       "Name: SPEEDING, dtype: int64"
      ]
     },
     "execution_count": 16,
     "metadata": {},
     "output_type": "execute_result"
    }
   ],
   "source": [
    "df[\"SPEEDING\"]=df[\"SPEEDING\"].fillna(0)\n",
    "df[\"SPEEDING\"]=df[\"SPEEDING\"].replace(to_replace=\"Y\",value=1)\n",
    "df[\"SPEEDING\"].value_counts()"
   ]
  },
  {
   "cell_type": "code",
   "execution_count": 17,
   "metadata": {},
   "outputs": [
    {
     "data": {
      "text/plain": [
       "0    164868\n",
       "1     29805\n",
       "Name: INATTENTIONIND, dtype: int64"
      ]
     },
     "execution_count": 17,
     "metadata": {},
     "output_type": "execute_result"
    }
   ],
   "source": [
    "df[\"INATTENTIONIND\"]=df[\"INATTENTIONIND\"].fillna(0)\n",
    "df[\"INATTENTIONIND\"]=df[\"INATTENTIONIND\"].replace(to_replace=\"Y\",value=1)\n",
    "df[\"INATTENTIONIND\"].value_counts()"
   ]
  },
  {
   "cell_type": "code",
   "execution_count": 18,
   "metadata": {},
   "outputs": [
    {
     "data": {
      "text/plain": [
       "0    190006\n",
       "1      4667\n",
       "Name: PEDROWNOTGRNT, dtype: int64"
      ]
     },
     "execution_count": 18,
     "metadata": {},
     "output_type": "execute_result"
    }
   ],
   "source": [
    "df[\"PEDROWNOTGRNT\"]=df[\"PEDROWNOTGRNT\"].fillna(0)\n",
    "df[\"PEDROWNOTGRNT\"]=df[\"PEDROWNOTGRNT\"].replace(to_replace=\"Y\",value=1)\n",
    "df[\"PEDROWNOTGRNT\"].value_counts()"
   ]
  },
  {
   "cell_type": "markdown",
   "metadata": {},
   "source": [
    "\"UNDERINFL\", \"HITPARKEDCAR\" value could also be categorized as 1 or 0"
   ]
  },
  {
   "cell_type": "code",
   "execution_count": 19,
   "metadata": {},
   "outputs": [
    {
     "data": {
      "text/plain": [
       "N    100274\n",
       "0     80394\n",
       "Y      5126\n",
       "1      3995\n",
       "Name: UNDERINFL, dtype: int64"
      ]
     },
     "execution_count": 19,
     "metadata": {},
     "output_type": "execute_result"
    }
   ],
   "source": [
    "df[\"UNDERINFL\"].value_counts()"
   ]
  },
  {
   "cell_type": "markdown",
   "metadata": {},
   "source": [
    "Attribute filled with 4 kind value: \"Y\",\"N\",\"0\",\"1\", replace \"Y\" with 1, replace \"N\" with 0"
   ]
  },
  {
   "cell_type": "code",
   "execution_count": 20,
   "metadata": {},
   "outputs": [
    {
     "data": {
      "text/plain": [
       "0.0    180668\n",
       "1.0      9121\n",
       "Name: UNDERINFL, dtype: int64"
      ]
     },
     "execution_count": 20,
     "metadata": {},
     "output_type": "execute_result"
    }
   ],
   "source": [
    "df[\"UNDERINFL\"]=df[\"UNDERINFL\"].replace(to_replace=\"N\",value= 0)\n",
    "df[\"UNDERINFL\"]=df[\"UNDERINFL\"].replace(to_replace=\"Y\",value= 1)\n",
    "df[\"UNDERINFL\"]=pd.to_numeric(df[\"UNDERINFL\"])\n",
    "df[\"UNDERINFL\"].value_counts()"
   ]
  },
  {
   "cell_type": "code",
   "execution_count": 21,
   "metadata": {},
   "outputs": [
    {
     "data": {
      "text/plain": [
       "0    187457\n",
       "1      7216\n",
       "Name: HITPARKEDCAR, dtype: int64"
      ]
     },
     "execution_count": 21,
     "metadata": {},
     "output_type": "execute_result"
    }
   ],
   "source": [
    "df[\"HITPARKEDCAR\"]=df[\"HITPARKEDCAR\"].replace(to_replace=\"N\",value=0)\n",
    "df[\"HITPARKEDCAR\"]=df[\"HITPARKEDCAR\"].replace(to_replace=\"Y\",value=1)\n",
    "df[\"HITPARKEDCAR\"].value_counts()"
   ]
  },
  {
   "cell_type": "code",
   "execution_count": 22,
   "metadata": {},
   "outputs": [
    {
     "data": {
      "text/plain": [
       "1    189786\n",
       "0      4887\n",
       "Name: STATUS, dtype: int64"
      ]
     },
     "execution_count": 22,
     "metadata": {},
     "output_type": "execute_result"
    }
   ],
   "source": [
    "df[\"STATUS\"]=df[\"STATUS\"].replace(to_replace=\"Matched\", value=1)\n",
    "df[\"STATUS\"]=df[\"STATUS\"].replace(to_replace=\"Unmatched\", value=0)\n",
    "df[\"STATUS\"].value_counts()"
   ]
  },
  {
   "cell_type": "code",
   "execution_count": 17,
   "metadata": {
    "collapsed": true,
    "jupyter": {
     "outputs_hidden": true
    }
   },
   "outputs": [
    {
     "data": {
      "text/plain": [
       "SEVERITYCODE         0\n",
       "X                 5334\n",
       "Y                 5334\n",
       "INCKEY               0\n",
       "COLDETKEY            0\n",
       "STATUS               0\n",
       "ADDRTYPE          1926\n",
       "PERSONCOUNT          0\n",
       "PEDCOUNT             0\n",
       "PEDCYLCOUNT          0\n",
       "VEHCOUNT             0\n",
       "INCDATE              0\n",
       "INCDTTM              0\n",
       "SDOT_COLCODE         0\n",
       "INATTENTIONIND       0\n",
       "UNDERINFL         4884\n",
       "WEATHER           5081\n",
       "ROADCOND          5012\n",
       "LIGHTCOND         5170\n",
       "PEDROWNOTGRNT        0\n",
       "SPEEDING             0\n",
       "ST_COLCODE          18\n",
       "SEGLANEKEY           0\n",
       "CROSSWALKKEY         0\n",
       "HITPARKEDCAR         0\n",
       "dtype: int64"
      ]
     },
     "execution_count": 17,
     "metadata": {},
     "output_type": "execute_result"
    }
   ],
   "source": [
    "df.isnull().sum()"
   ]
  },
  {
   "cell_type": "code",
   "execution_count": null,
   "metadata": {},
   "outputs": [],
   "source": []
  },
  {
   "cell_type": "markdown",
   "metadata": {},
   "source": [
    "- drop rows that have no complete information"
   ]
  },
  {
   "cell_type": "code",
   "execution_count": 23,
   "metadata": {},
   "outputs": [
    {
     "name": "stdout",
     "output_type": "stream",
     "text": [
      "(184149, 25)\n"
     ]
    },
    {
     "data": {
      "text/html": [
       "<div>\n",
       "<style scoped>\n",
       "    .dataframe tbody tr th:only-of-type {\n",
       "        vertical-align: middle;\n",
       "    }\n",
       "\n",
       "    .dataframe tbody tr th {\n",
       "        vertical-align: top;\n",
       "    }\n",
       "\n",
       "    .dataframe thead th {\n",
       "        text-align: right;\n",
       "    }\n",
       "</style>\n",
       "<table border=\"1\" class=\"dataframe\">\n",
       "  <thead>\n",
       "    <tr style=\"text-align: right;\">\n",
       "      <th></th>\n",
       "      <th>SEVERITYCODE</th>\n",
       "      <th>X</th>\n",
       "      <th>Y</th>\n",
       "      <th>INCKEY</th>\n",
       "      <th>COLDETKEY</th>\n",
       "      <th>STATUS</th>\n",
       "      <th>ADDRTYPE</th>\n",
       "      <th>PERSONCOUNT</th>\n",
       "      <th>PEDCOUNT</th>\n",
       "      <th>PEDCYLCOUNT</th>\n",
       "      <th>...</th>\n",
       "      <th>UNDERINFL</th>\n",
       "      <th>WEATHER</th>\n",
       "      <th>ROADCOND</th>\n",
       "      <th>LIGHTCOND</th>\n",
       "      <th>PEDROWNOTGRNT</th>\n",
       "      <th>SPEEDING</th>\n",
       "      <th>ST_COLCODE</th>\n",
       "      <th>SEGLANEKEY</th>\n",
       "      <th>CROSSWALKKEY</th>\n",
       "      <th>HITPARKEDCAR</th>\n",
       "    </tr>\n",
       "  </thead>\n",
       "  <tbody>\n",
       "    <tr>\n",
       "      <th>0</th>\n",
       "      <td>2</td>\n",
       "      <td>-122.323148</td>\n",
       "      <td>47.703140</td>\n",
       "      <td>1307</td>\n",
       "      <td>1307</td>\n",
       "      <td>1</td>\n",
       "      <td>Intersection</td>\n",
       "      <td>2</td>\n",
       "      <td>0</td>\n",
       "      <td>0</td>\n",
       "      <td>...</td>\n",
       "      <td>0.0</td>\n",
       "      <td>Overcast</td>\n",
       "      <td>Wet</td>\n",
       "      <td>Daylight</td>\n",
       "      <td>0</td>\n",
       "      <td>0</td>\n",
       "      <td>10</td>\n",
       "      <td>0</td>\n",
       "      <td>0</td>\n",
       "      <td>0</td>\n",
       "    </tr>\n",
       "    <tr>\n",
       "      <th>1</th>\n",
       "      <td>1</td>\n",
       "      <td>-122.347294</td>\n",
       "      <td>47.647172</td>\n",
       "      <td>52200</td>\n",
       "      <td>52200</td>\n",
       "      <td>1</td>\n",
       "      <td>Block</td>\n",
       "      <td>2</td>\n",
       "      <td>0</td>\n",
       "      <td>0</td>\n",
       "      <td>...</td>\n",
       "      <td>0.0</td>\n",
       "      <td>Raining</td>\n",
       "      <td>Wet</td>\n",
       "      <td>Dark - Street Lights On</td>\n",
       "      <td>0</td>\n",
       "      <td>0</td>\n",
       "      <td>11</td>\n",
       "      <td>0</td>\n",
       "      <td>0</td>\n",
       "      <td>0</td>\n",
       "    </tr>\n",
       "    <tr>\n",
       "      <th>2</th>\n",
       "      <td>1</td>\n",
       "      <td>-122.334540</td>\n",
       "      <td>47.607871</td>\n",
       "      <td>26700</td>\n",
       "      <td>26700</td>\n",
       "      <td>1</td>\n",
       "      <td>Block</td>\n",
       "      <td>4</td>\n",
       "      <td>0</td>\n",
       "      <td>0</td>\n",
       "      <td>...</td>\n",
       "      <td>0.0</td>\n",
       "      <td>Overcast</td>\n",
       "      <td>Dry</td>\n",
       "      <td>Daylight</td>\n",
       "      <td>0</td>\n",
       "      <td>0</td>\n",
       "      <td>32</td>\n",
       "      <td>0</td>\n",
       "      <td>0</td>\n",
       "      <td>0</td>\n",
       "    </tr>\n",
       "    <tr>\n",
       "      <th>3</th>\n",
       "      <td>1</td>\n",
       "      <td>-122.334803</td>\n",
       "      <td>47.604803</td>\n",
       "      <td>1144</td>\n",
       "      <td>1144</td>\n",
       "      <td>1</td>\n",
       "      <td>Block</td>\n",
       "      <td>3</td>\n",
       "      <td>0</td>\n",
       "      <td>0</td>\n",
       "      <td>...</td>\n",
       "      <td>0.0</td>\n",
       "      <td>Clear</td>\n",
       "      <td>Dry</td>\n",
       "      <td>Daylight</td>\n",
       "      <td>0</td>\n",
       "      <td>0</td>\n",
       "      <td>23</td>\n",
       "      <td>0</td>\n",
       "      <td>0</td>\n",
       "      <td>0</td>\n",
       "    </tr>\n",
       "    <tr>\n",
       "      <th>4</th>\n",
       "      <td>2</td>\n",
       "      <td>-122.306426</td>\n",
       "      <td>47.545739</td>\n",
       "      <td>17700</td>\n",
       "      <td>17700</td>\n",
       "      <td>1</td>\n",
       "      <td>Intersection</td>\n",
       "      <td>2</td>\n",
       "      <td>0</td>\n",
       "      <td>0</td>\n",
       "      <td>...</td>\n",
       "      <td>0.0</td>\n",
       "      <td>Raining</td>\n",
       "      <td>Wet</td>\n",
       "      <td>Daylight</td>\n",
       "      <td>0</td>\n",
       "      <td>0</td>\n",
       "      <td>10</td>\n",
       "      <td>0</td>\n",
       "      <td>0</td>\n",
       "      <td>0</td>\n",
       "    </tr>\n",
       "  </tbody>\n",
       "</table>\n",
       "<p>5 rows × 25 columns</p>\n",
       "</div>"
      ],
      "text/plain": [
       "   SEVERITYCODE           X          Y  INCKEY  COLDETKEY  STATUS  \\\n",
       "0             2 -122.323148  47.703140    1307       1307       1   \n",
       "1             1 -122.347294  47.647172   52200      52200       1   \n",
       "2             1 -122.334540  47.607871   26700      26700       1   \n",
       "3             1 -122.334803  47.604803    1144       1144       1   \n",
       "4             2 -122.306426  47.545739   17700      17700       1   \n",
       "\n",
       "       ADDRTYPE  PERSONCOUNT  PEDCOUNT  PEDCYLCOUNT  ...  UNDERINFL   WEATHER  \\\n",
       "0  Intersection            2         0            0  ...        0.0  Overcast   \n",
       "1         Block            2         0            0  ...        0.0   Raining   \n",
       "2         Block            4         0            0  ...        0.0  Overcast   \n",
       "3         Block            3         0            0  ...        0.0     Clear   \n",
       "4  Intersection            2         0            0  ...        0.0   Raining   \n",
       "\n",
       "  ROADCOND                LIGHTCOND  PEDROWNOTGRNT  SPEEDING ST_COLCODE  \\\n",
       "0      Wet                 Daylight              0         0         10   \n",
       "1      Wet  Dark - Street Lights On              0         0         11   \n",
       "2      Dry                 Daylight              0         0         32   \n",
       "3      Dry                 Daylight              0         0         23   \n",
       "4      Wet                 Daylight              0         0         10   \n",
       "\n",
       "  SEGLANEKEY CROSSWALKKEY  HITPARKEDCAR  \n",
       "0          0            0             0  \n",
       "1          0            0             0  \n",
       "2          0            0             0  \n",
       "3          0            0             0  \n",
       "4          0            0             0  \n",
       "\n",
       "[5 rows x 25 columns]"
      ]
     },
     "execution_count": 23,
     "metadata": {},
     "output_type": "execute_result"
    }
   ],
   "source": [
    "df=df.dropna(axis=0, how=\"any\")\n",
    "print(df.shape)\n",
    "df.head(5)"
   ]
  },
  {
   "cell_type": "code",
   "execution_count": 22,
   "metadata": {
    "collapsed": true,
    "jupyter": {
     "outputs_hidden": true
    }
   },
   "outputs": [
    {
     "data": {
      "text/plain": [
       "SEVERITYCODE        int64\n",
       "X                 float64\n",
       "Y                 float64\n",
       "INCKEY              int64\n",
       "COLDETKEY           int64\n",
       "STATUS              int64\n",
       "ADDRTYPE           object\n",
       "PERSONCOUNT         int64\n",
       "PEDCOUNT            int64\n",
       "PEDCYLCOUNT         int64\n",
       "VEHCOUNT            int64\n",
       "INCDATE            object\n",
       "INCDTTM            object\n",
       "SDOT_COLCODE        int64\n",
       "INATTENTIONIND      int64\n",
       "UNDERINFL         float64\n",
       "WEATHER            object\n",
       "ROADCOND           object\n",
       "LIGHTCOND          object\n",
       "PEDROWNOTGRNT       int64\n",
       "SPEEDING            int64\n",
       "ST_COLCODE        float64\n",
       "SEGLANEKEY          int64\n",
       "CROSSWALKKEY        int64\n",
       "HITPARKEDCAR        int64\n",
       "dtype: object"
      ]
     },
     "execution_count": 22,
     "metadata": {},
     "output_type": "execute_result"
    }
   ],
   "source": [
    "df.dtypes"
   ]
  },
  {
   "cell_type": "code",
   "execution_count": 24,
   "metadata": {},
   "outputs": [],
   "source": [
    "df[\"ST_COLCODE\"]=pd.to_numeric(df[\"UNDERINFL\"])"
   ]
  },
  {
   "cell_type": "code",
   "execution_count": 25,
   "metadata": {},
   "outputs": [],
   "source": [
    "df.to_csv(\"prep_col_df.csv\")"
   ]
  },
  {
   "cell_type": "code",
   "execution_count": 26,
   "metadata": {},
   "outputs": [
    {
     "data": {
      "text/html": [
       "<div>\n",
       "<style scoped>\n",
       "    .dataframe tbody tr th:only-of-type {\n",
       "        vertical-align: middle;\n",
       "    }\n",
       "\n",
       "    .dataframe tbody tr th {\n",
       "        vertical-align: top;\n",
       "    }\n",
       "\n",
       "    .dataframe thead th {\n",
       "        text-align: right;\n",
       "    }\n",
       "</style>\n",
       "<table border=\"1\" class=\"dataframe\">\n",
       "  <thead>\n",
       "    <tr style=\"text-align: right;\">\n",
       "      <th></th>\n",
       "      <th>Unnamed: 0</th>\n",
       "      <th>SEVERITYCODE</th>\n",
       "      <th>X</th>\n",
       "      <th>Y</th>\n",
       "      <th>INCKEY</th>\n",
       "      <th>COLDETKEY</th>\n",
       "      <th>STATUS</th>\n",
       "      <th>ADDRTYPE</th>\n",
       "      <th>PERSONCOUNT</th>\n",
       "      <th>PEDCOUNT</th>\n",
       "      <th>...</th>\n",
       "      <th>UNDERINFL</th>\n",
       "      <th>WEATHER</th>\n",
       "      <th>ROADCOND</th>\n",
       "      <th>LIGHTCOND</th>\n",
       "      <th>PEDROWNOTGRNT</th>\n",
       "      <th>SPEEDING</th>\n",
       "      <th>ST_COLCODE</th>\n",
       "      <th>SEGLANEKEY</th>\n",
       "      <th>CROSSWALKKEY</th>\n",
       "      <th>HITPARKEDCAR</th>\n",
       "    </tr>\n",
       "  </thead>\n",
       "  <tbody>\n",
       "    <tr>\n",
       "      <th>0</th>\n",
       "      <td>0</td>\n",
       "      <td>2</td>\n",
       "      <td>-122.323148</td>\n",
       "      <td>47.703140</td>\n",
       "      <td>1307</td>\n",
       "      <td>1307</td>\n",
       "      <td>1</td>\n",
       "      <td>Intersection</td>\n",
       "      <td>2</td>\n",
       "      <td>0</td>\n",
       "      <td>...</td>\n",
       "      <td>0.0</td>\n",
       "      <td>Overcast</td>\n",
       "      <td>Wet</td>\n",
       "      <td>Daylight</td>\n",
       "      <td>0</td>\n",
       "      <td>0</td>\n",
       "      <td>0.0</td>\n",
       "      <td>0</td>\n",
       "      <td>0</td>\n",
       "      <td>0</td>\n",
       "    </tr>\n",
       "    <tr>\n",
       "      <th>1</th>\n",
       "      <td>1</td>\n",
       "      <td>1</td>\n",
       "      <td>-122.347294</td>\n",
       "      <td>47.647172</td>\n",
       "      <td>52200</td>\n",
       "      <td>52200</td>\n",
       "      <td>1</td>\n",
       "      <td>Block</td>\n",
       "      <td>2</td>\n",
       "      <td>0</td>\n",
       "      <td>...</td>\n",
       "      <td>0.0</td>\n",
       "      <td>Raining</td>\n",
       "      <td>Wet</td>\n",
       "      <td>Dark - Street Lights On</td>\n",
       "      <td>0</td>\n",
       "      <td>0</td>\n",
       "      <td>0.0</td>\n",
       "      <td>0</td>\n",
       "      <td>0</td>\n",
       "      <td>0</td>\n",
       "    </tr>\n",
       "    <tr>\n",
       "      <th>2</th>\n",
       "      <td>2</td>\n",
       "      <td>1</td>\n",
       "      <td>-122.334540</td>\n",
       "      <td>47.607871</td>\n",
       "      <td>26700</td>\n",
       "      <td>26700</td>\n",
       "      <td>1</td>\n",
       "      <td>Block</td>\n",
       "      <td>4</td>\n",
       "      <td>0</td>\n",
       "      <td>...</td>\n",
       "      <td>0.0</td>\n",
       "      <td>Overcast</td>\n",
       "      <td>Dry</td>\n",
       "      <td>Daylight</td>\n",
       "      <td>0</td>\n",
       "      <td>0</td>\n",
       "      <td>0.0</td>\n",
       "      <td>0</td>\n",
       "      <td>0</td>\n",
       "      <td>0</td>\n",
       "    </tr>\n",
       "    <tr>\n",
       "      <th>3</th>\n",
       "      <td>3</td>\n",
       "      <td>1</td>\n",
       "      <td>-122.334803</td>\n",
       "      <td>47.604803</td>\n",
       "      <td>1144</td>\n",
       "      <td>1144</td>\n",
       "      <td>1</td>\n",
       "      <td>Block</td>\n",
       "      <td>3</td>\n",
       "      <td>0</td>\n",
       "      <td>...</td>\n",
       "      <td>0.0</td>\n",
       "      <td>Clear</td>\n",
       "      <td>Dry</td>\n",
       "      <td>Daylight</td>\n",
       "      <td>0</td>\n",
       "      <td>0</td>\n",
       "      <td>0.0</td>\n",
       "      <td>0</td>\n",
       "      <td>0</td>\n",
       "      <td>0</td>\n",
       "    </tr>\n",
       "    <tr>\n",
       "      <th>4</th>\n",
       "      <td>4</td>\n",
       "      <td>2</td>\n",
       "      <td>-122.306426</td>\n",
       "      <td>47.545739</td>\n",
       "      <td>17700</td>\n",
       "      <td>17700</td>\n",
       "      <td>1</td>\n",
       "      <td>Intersection</td>\n",
       "      <td>2</td>\n",
       "      <td>0</td>\n",
       "      <td>...</td>\n",
       "      <td>0.0</td>\n",
       "      <td>Raining</td>\n",
       "      <td>Wet</td>\n",
       "      <td>Daylight</td>\n",
       "      <td>0</td>\n",
       "      <td>0</td>\n",
       "      <td>0.0</td>\n",
       "      <td>0</td>\n",
       "      <td>0</td>\n",
       "      <td>0</td>\n",
       "    </tr>\n",
       "  </tbody>\n",
       "</table>\n",
       "<p>5 rows × 26 columns</p>\n",
       "</div>"
      ],
      "text/plain": [
       "   Unnamed: 0  SEVERITYCODE           X          Y  INCKEY  COLDETKEY  STATUS  \\\n",
       "0           0             2 -122.323148  47.703140    1307       1307       1   \n",
       "1           1             1 -122.347294  47.647172   52200      52200       1   \n",
       "2           2             1 -122.334540  47.607871   26700      26700       1   \n",
       "3           3             1 -122.334803  47.604803    1144       1144       1   \n",
       "4           4             2 -122.306426  47.545739   17700      17700       1   \n",
       "\n",
       "       ADDRTYPE  PERSONCOUNT  PEDCOUNT  ...  UNDERINFL   WEATHER ROADCOND  \\\n",
       "0  Intersection            2         0  ...        0.0  Overcast      Wet   \n",
       "1         Block            2         0  ...        0.0   Raining      Wet   \n",
       "2         Block            4         0  ...        0.0  Overcast      Dry   \n",
       "3         Block            3         0  ...        0.0     Clear      Dry   \n",
       "4  Intersection            2         0  ...        0.0   Raining      Wet   \n",
       "\n",
       "                 LIGHTCOND  PEDROWNOTGRNT  SPEEDING  ST_COLCODE SEGLANEKEY  \\\n",
       "0                 Daylight              0         0         0.0          0   \n",
       "1  Dark - Street Lights On              0         0         0.0          0   \n",
       "2                 Daylight              0         0         0.0          0   \n",
       "3                 Daylight              0         0         0.0          0   \n",
       "4                 Daylight              0         0         0.0          0   \n",
       "\n",
       "  CROSSWALKKEY HITPARKEDCAR  \n",
       "0            0            0  \n",
       "1            0            0  \n",
       "2            0            0  \n",
       "3            0            0  \n",
       "4            0            0  \n",
       "\n",
       "[5 rows x 26 columns]"
      ]
     },
     "execution_count": 26,
     "metadata": {},
     "output_type": "execute_result"
    }
   ],
   "source": [
    "df=pd.read_csv(\"prep_col_df.csv\")\n",
    "df.head()"
   ]
  },
  {
   "cell_type": "markdown",
   "metadata": {},
   "source": [
    "# Data preperation & Feature Extraction #"
   ]
  },
  {
   "cell_type": "markdown",
   "metadata": {},
   "source": [
    "#### first blick of correlation among numeric value ####"
   ]
  },
  {
   "cell_type": "code",
   "execution_count": 21,
   "metadata": {
    "collapsed": true,
    "jupyter": {
     "outputs_hidden": true
    }
   },
   "outputs": [
    {
     "data": {
      "text/html": [
       "<div>\n",
       "<style scoped>\n",
       "    .dataframe tbody tr th:only-of-type {\n",
       "        vertical-align: middle;\n",
       "    }\n",
       "\n",
       "    .dataframe tbody tr th {\n",
       "        vertical-align: top;\n",
       "    }\n",
       "\n",
       "    .dataframe thead th {\n",
       "        text-align: right;\n",
       "    }\n",
       "</style>\n",
       "<table border=\"1\" class=\"dataframe\">\n",
       "  <thead>\n",
       "    <tr style=\"text-align: right;\">\n",
       "      <th></th>\n",
       "      <th>SEVERITYCODE</th>\n",
       "      <th>X</th>\n",
       "      <th>Y</th>\n",
       "      <th>INCKEY</th>\n",
       "      <th>COLDETKEY</th>\n",
       "      <th>STATUS</th>\n",
       "      <th>PERSONCOUNT</th>\n",
       "      <th>PEDCOUNT</th>\n",
       "      <th>PEDCYLCOUNT</th>\n",
       "      <th>VEHCOUNT</th>\n",
       "      <th>SDOT_COLCODE</th>\n",
       "      <th>INATTENTIONIND</th>\n",
       "      <th>UNDERINFL</th>\n",
       "      <th>PEDROWNOTGRNT</th>\n",
       "      <th>SPEEDING</th>\n",
       "      <th>ST_COLCODE</th>\n",
       "      <th>SEGLANEKEY</th>\n",
       "      <th>CROSSWALKKEY</th>\n",
       "      <th>HITPARKEDCAR</th>\n",
       "    </tr>\n",
       "  </thead>\n",
       "  <tbody>\n",
       "    <tr>\n",
       "      <th>SEVERITYCODE</th>\n",
       "      <td>1.000000</td>\n",
       "      <td>0.010238</td>\n",
       "      <td>0.018411</td>\n",
       "      <td>0.030490</td>\n",
       "      <td>0.030505</td>\n",
       "      <td>0.001540</td>\n",
       "      <td>0.127421</td>\n",
       "      <td>0.248455</td>\n",
       "      <td>0.216223</td>\n",
       "      <td>-0.085072</td>\n",
       "      <td>0.182801</td>\n",
       "      <td>0.043666</td>\n",
       "      <td>0.043044</td>\n",
       "      <td>0.208712</td>\n",
       "      <td>0.037349</td>\n",
       "      <td>0.043044</td>\n",
       "      <td>0.105011</td>\n",
       "      <td>0.176460</td>\n",
       "      <td>-0.101457</td>\n",
       "    </tr>\n",
       "    <tr>\n",
       "      <th>X</th>\n",
       "      <td>0.010238</td>\n",
       "      <td>1.000000</td>\n",
       "      <td>-0.160181</td>\n",
       "      <td>0.010394</td>\n",
       "      <td>0.010383</td>\n",
       "      <td>0.002001</td>\n",
       "      <td>0.012762</td>\n",
       "      <td>0.011406</td>\n",
       "      <td>-0.001871</td>\n",
       "      <td>-0.016047</td>\n",
       "      <td>0.011259</td>\n",
       "      <td>-0.015729</td>\n",
       "      <td>-0.031686</td>\n",
       "      <td>0.008432</td>\n",
       "      <td>-0.008368</td>\n",
       "      <td>-0.031686</td>\n",
       "      <td>-0.001816</td>\n",
       "      <td>0.014240</td>\n",
       "      <td>-0.016369</td>\n",
       "    </tr>\n",
       "    <tr>\n",
       "      <th>Y</th>\n",
       "      <td>0.018411</td>\n",
       "      <td>-0.160181</td>\n",
       "      <td>1.000000</td>\n",
       "      <td>-0.026684</td>\n",
       "      <td>-0.026699</td>\n",
       "      <td>0.001997</td>\n",
       "      <td>-0.014076</td>\n",
       "      <td>0.010419</td>\n",
       "      <td>0.026722</td>\n",
       "      <td>0.020597</td>\n",
       "      <td>-0.019644</td>\n",
       "      <td>0.008973</td>\n",
       "      <td>-0.007046</td>\n",
       "      <td>0.022223</td>\n",
       "      <td>-0.026972</td>\n",
       "      <td>-0.007046</td>\n",
       "      <td>0.004510</td>\n",
       "      <td>0.009656</td>\n",
       "      <td>-0.012255</td>\n",
       "    </tr>\n",
       "    <tr>\n",
       "      <th>INCKEY</th>\n",
       "      <td>0.030490</td>\n",
       "      <td>0.010394</td>\n",
       "      <td>-0.026684</td>\n",
       "      <td>1.000000</td>\n",
       "      <td>0.999996</td>\n",
       "      <td>0.003696</td>\n",
       "      <td>-0.052618</td>\n",
       "      <td>0.032068</td>\n",
       "      <td>0.037433</td>\n",
       "      <td>-0.016203</td>\n",
       "      <td>-0.020036</td>\n",
       "      <td>0.111585</td>\n",
       "      <td>0.001690</td>\n",
       "      <td>-0.013008</td>\n",
       "      <td>-0.034003</td>\n",
       "      <td>0.001690</td>\n",
       "      <td>0.021890</td>\n",
       "      <td>0.051604</td>\n",
       "      <td>0.259684</td>\n",
       "    </tr>\n",
       "    <tr>\n",
       "      <th>COLDETKEY</th>\n",
       "      <td>0.030505</td>\n",
       "      <td>0.010383</td>\n",
       "      <td>-0.026699</td>\n",
       "      <td>0.999996</td>\n",
       "      <td>1.000000</td>\n",
       "      <td>0.003687</td>\n",
       "      <td>-0.052520</td>\n",
       "      <td>0.032069</td>\n",
       "      <td>0.037392</td>\n",
       "      <td>-0.016191</td>\n",
       "      <td>-0.019904</td>\n",
       "      <td>0.111458</td>\n",
       "      <td>0.001714</td>\n",
       "      <td>-0.013017</td>\n",
       "      <td>-0.033965</td>\n",
       "      <td>0.001714</td>\n",
       "      <td>0.021773</td>\n",
       "      <td>0.051484</td>\n",
       "      <td>0.259755</td>\n",
       "    </tr>\n",
       "    <tr>\n",
       "      <th>STATUS</th>\n",
       "      <td>0.001540</td>\n",
       "      <td>0.002001</td>\n",
       "      <td>0.001997</td>\n",
       "      <td>0.003696</td>\n",
       "      <td>0.003687</td>\n",
       "      <td>1.000000</td>\n",
       "      <td>0.004233</td>\n",
       "      <td>0.000447</td>\n",
       "      <td>0.000404</td>\n",
       "      <td>-0.000110</td>\n",
       "      <td>0.000014</td>\n",
       "      <td>0.001010</td>\n",
       "      <td>0.000524</td>\n",
       "      <td>0.000375</td>\n",
       "      <td>0.000519</td>\n",
       "      <td>0.000524</td>\n",
       "      <td>0.000192</td>\n",
       "      <td>0.000321</td>\n",
       "      <td>0.000450</td>\n",
       "    </tr>\n",
       "    <tr>\n",
       "      <th>PERSONCOUNT</th>\n",
       "      <td>0.127421</td>\n",
       "      <td>0.012762</td>\n",
       "      <td>-0.014076</td>\n",
       "      <td>-0.052618</td>\n",
       "      <td>-0.052520</td>\n",
       "      <td>0.004233</td>\n",
       "      <td>1.000000</td>\n",
       "      <td>-0.026985</td>\n",
       "      <td>-0.042417</td>\n",
       "      <td>0.395190</td>\n",
       "      <td>-0.142455</td>\n",
       "      <td>0.071937</td>\n",
       "      <td>0.021682</td>\n",
       "      <td>-0.030600</td>\n",
       "      <td>-0.001659</td>\n",
       "      <td>0.021682</td>\n",
       "      <td>-0.022620</td>\n",
       "      <td>-0.034724</td>\n",
       "      <td>-0.052742</td>\n",
       "    </tr>\n",
       "    <tr>\n",
       "      <th>PEDCOUNT</th>\n",
       "      <td>0.248455</td>\n",
       "      <td>0.011406</td>\n",
       "      <td>0.010419</td>\n",
       "      <td>0.032068</td>\n",
       "      <td>0.032069</td>\n",
       "      <td>0.000447</td>\n",
       "      <td>-0.026985</td>\n",
       "      <td>1.000000</td>\n",
       "      <td>-0.018374</td>\n",
       "      <td>-0.321602</td>\n",
       "      <td>0.270297</td>\n",
       "      <td>-0.006499</td>\n",
       "      <td>0.015394</td>\n",
       "      <td>0.495672</td>\n",
       "      <td>-0.033375</td>\n",
       "      <td>0.015394</td>\n",
       "      <td>0.001465</td>\n",
       "      <td>0.571188</td>\n",
       "      <td>-0.035481</td>\n",
       "    </tr>\n",
       "    <tr>\n",
       "      <th>PEDCYLCOUNT</th>\n",
       "      <td>0.216223</td>\n",
       "      <td>-0.001871</td>\n",
       "      <td>0.026722</td>\n",
       "      <td>0.037433</td>\n",
       "      <td>0.037392</td>\n",
       "      <td>0.000404</td>\n",
       "      <td>-0.042417</td>\n",
       "      <td>-0.018374</td>\n",
       "      <td>1.000000</td>\n",
       "      <td>-0.310826</td>\n",
       "      <td>0.397360</td>\n",
       "      <td>0.001997</td>\n",
       "      <td>-0.017622</td>\n",
       "      <td>0.323493</td>\n",
       "      <td>-0.020685</td>\n",
       "      <td>-0.017622</td>\n",
       "      <td>0.456402</td>\n",
       "      <td>0.109617</td>\n",
       "      <td>-0.030285</td>\n",
       "    </tr>\n",
       "    <tr>\n",
       "      <th>VEHCOUNT</th>\n",
       "      <td>-0.085072</td>\n",
       "      <td>-0.016047</td>\n",
       "      <td>0.020597</td>\n",
       "      <td>-0.016203</td>\n",
       "      <td>-0.016191</td>\n",
       "      <td>-0.000110</td>\n",
       "      <td>0.395190</td>\n",
       "      <td>-0.321602</td>\n",
       "      <td>-0.310826</td>\n",
       "      <td>1.000000</td>\n",
       "      <td>-0.468309</td>\n",
       "      <td>0.047944</td>\n",
       "      <td>-0.007975</td>\n",
       "      <td>-0.280773</td>\n",
       "      <td>-0.040661</td>\n",
       "      <td>-0.007975</td>\n",
       "      <td>-0.147203</td>\n",
       "      <td>-0.241569</td>\n",
       "      <td>0.069231</td>\n",
       "    </tr>\n",
       "    <tr>\n",
       "      <th>SDOT_COLCODE</th>\n",
       "      <td>0.182801</td>\n",
       "      <td>0.011259</td>\n",
       "      <td>-0.019644</td>\n",
       "      <td>-0.020036</td>\n",
       "      <td>-0.019904</td>\n",
       "      <td>0.000014</td>\n",
       "      <td>-0.142455</td>\n",
       "      <td>0.270297</td>\n",
       "      <td>0.397360</td>\n",
       "      <td>-0.468309</td>\n",
       "      <td>1.000000</td>\n",
       "      <td>0.024949</td>\n",
       "      <td>0.105569</td>\n",
       "      <td>0.247737</td>\n",
       "      <td>0.137602</td>\n",
       "      <td>0.105569</td>\n",
       "      <td>0.212419</td>\n",
       "      <td>0.194349</td>\n",
       "      <td>-0.095989</td>\n",
       "    </tr>\n",
       "    <tr>\n",
       "      <th>INATTENTIONIND</th>\n",
       "      <td>0.043666</td>\n",
       "      <td>-0.015729</td>\n",
       "      <td>0.008973</td>\n",
       "      <td>0.111585</td>\n",
       "      <td>0.111458</td>\n",
       "      <td>0.001010</td>\n",
       "      <td>0.071937</td>\n",
       "      <td>-0.006499</td>\n",
       "      <td>0.001997</td>\n",
       "      <td>0.047944</td>\n",
       "      <td>0.024949</td>\n",
       "      <td>1.000000</td>\n",
       "      <td>-0.028156</td>\n",
       "      <td>-0.028896</td>\n",
       "      <td>-0.049923</td>\n",
       "      <td>-0.028156</td>\n",
       "      <td>-0.001322</td>\n",
       "      <td>-0.003091</td>\n",
       "      <td>0.014174</td>\n",
       "    </tr>\n",
       "    <tr>\n",
       "      <th>UNDERINFL</th>\n",
       "      <td>0.043044</td>\n",
       "      <td>-0.031686</td>\n",
       "      <td>-0.007046</td>\n",
       "      <td>0.001690</td>\n",
       "      <td>0.001714</td>\n",
       "      <td>0.000524</td>\n",
       "      <td>0.021682</td>\n",
       "      <td>0.015394</td>\n",
       "      <td>-0.017622</td>\n",
       "      <td>-0.007975</td>\n",
       "      <td>0.105569</td>\n",
       "      <td>-0.028156</td>\n",
       "      <td>1.000000</td>\n",
       "      <td>-0.018653</td>\n",
       "      <td>0.091263</td>\n",
       "      <td>1.000000</td>\n",
       "      <td>-0.008831</td>\n",
       "      <td>-0.010162</td>\n",
       "      <td>0.013088</td>\n",
       "    </tr>\n",
       "    <tr>\n",
       "      <th>PEDROWNOTGRNT</th>\n",
       "      <td>0.208712</td>\n",
       "      <td>0.008432</td>\n",
       "      <td>0.022223</td>\n",
       "      <td>-0.013008</td>\n",
       "      <td>-0.013017</td>\n",
       "      <td>0.000375</td>\n",
       "      <td>-0.030600</td>\n",
       "      <td>0.495672</td>\n",
       "      <td>0.323493</td>\n",
       "      <td>-0.280773</td>\n",
       "      <td>0.247737</td>\n",
       "      <td>-0.028896</td>\n",
       "      <td>-0.018653</td>\n",
       "      <td>1.000000</td>\n",
       "      <td>-0.028957</td>\n",
       "      <td>-0.018653</td>\n",
       "      <td>0.152755</td>\n",
       "      <td>0.451661</td>\n",
       "      <td>-0.031071</td>\n",
       "    </tr>\n",
       "    <tr>\n",
       "      <th>SPEEDING</th>\n",
       "      <td>0.037349</td>\n",
       "      <td>-0.008368</td>\n",
       "      <td>-0.026972</td>\n",
       "      <td>-0.034003</td>\n",
       "      <td>-0.033965</td>\n",
       "      <td>0.000519</td>\n",
       "      <td>-0.001659</td>\n",
       "      <td>-0.033375</td>\n",
       "      <td>-0.020685</td>\n",
       "      <td>-0.040661</td>\n",
       "      <td>0.137602</td>\n",
       "      <td>-0.049923</td>\n",
       "      <td>0.091263</td>\n",
       "      <td>-0.028957</td>\n",
       "      <td>1.000000</td>\n",
       "      <td>0.091263</td>\n",
       "      <td>-0.006553</td>\n",
       "      <td>-0.025624</td>\n",
       "      <td>-0.026294</td>\n",
       "    </tr>\n",
       "    <tr>\n",
       "      <th>ST_COLCODE</th>\n",
       "      <td>0.043044</td>\n",
       "      <td>-0.031686</td>\n",
       "      <td>-0.007046</td>\n",
       "      <td>0.001690</td>\n",
       "      <td>0.001714</td>\n",
       "      <td>0.000524</td>\n",
       "      <td>0.021682</td>\n",
       "      <td>0.015394</td>\n",
       "      <td>-0.017622</td>\n",
       "      <td>-0.007975</td>\n",
       "      <td>0.105569</td>\n",
       "      <td>-0.028156</td>\n",
       "      <td>1.000000</td>\n",
       "      <td>-0.018653</td>\n",
       "      <td>0.091263</td>\n",
       "      <td>1.000000</td>\n",
       "      <td>-0.008831</td>\n",
       "      <td>-0.010162</td>\n",
       "      <td>0.013088</td>\n",
       "    </tr>\n",
       "    <tr>\n",
       "      <th>SEGLANEKEY</th>\n",
       "      <td>0.105011</td>\n",
       "      <td>-0.001816</td>\n",
       "      <td>0.004510</td>\n",
       "      <td>0.021890</td>\n",
       "      <td>0.021773</td>\n",
       "      <td>0.000192</td>\n",
       "      <td>-0.022620</td>\n",
       "      <td>0.001465</td>\n",
       "      <td>0.456402</td>\n",
       "      <td>-0.147203</td>\n",
       "      <td>0.212419</td>\n",
       "      <td>-0.001322</td>\n",
       "      <td>-0.008831</td>\n",
       "      <td>0.152755</td>\n",
       "      <td>-0.006553</td>\n",
       "      <td>-0.008831</td>\n",
       "      <td>1.000000</td>\n",
       "      <td>-0.003656</td>\n",
       "      <td>-0.015089</td>\n",
       "    </tr>\n",
       "    <tr>\n",
       "      <th>CROSSWALKKEY</th>\n",
       "      <td>0.176460</td>\n",
       "      <td>0.014240</td>\n",
       "      <td>0.009656</td>\n",
       "      <td>0.051604</td>\n",
       "      <td>0.051484</td>\n",
       "      <td>0.000321</td>\n",
       "      <td>-0.034724</td>\n",
       "      <td>0.571188</td>\n",
       "      <td>0.109617</td>\n",
       "      <td>-0.241569</td>\n",
       "      <td>0.194349</td>\n",
       "      <td>-0.003091</td>\n",
       "      <td>-0.010162</td>\n",
       "      <td>0.451661</td>\n",
       "      <td>-0.025624</td>\n",
       "      <td>-0.010162</td>\n",
       "      <td>-0.003656</td>\n",
       "      <td>1.000000</td>\n",
       "      <td>-0.026651</td>\n",
       "    </tr>\n",
       "    <tr>\n",
       "      <th>HITPARKEDCAR</th>\n",
       "      <td>-0.101457</td>\n",
       "      <td>-0.016369</td>\n",
       "      <td>-0.012255</td>\n",
       "      <td>0.259684</td>\n",
       "      <td>0.259755</td>\n",
       "      <td>0.000450</td>\n",
       "      <td>-0.052742</td>\n",
       "      <td>-0.035481</td>\n",
       "      <td>-0.030285</td>\n",
       "      <td>0.069231</td>\n",
       "      <td>-0.095989</td>\n",
       "      <td>0.014174</td>\n",
       "      <td>0.013088</td>\n",
       "      <td>-0.031071</td>\n",
       "      <td>-0.026294</td>\n",
       "      <td>0.013088</td>\n",
       "      <td>-0.015089</td>\n",
       "      <td>-0.026651</td>\n",
       "      <td>1.000000</td>\n",
       "    </tr>\n",
       "  </tbody>\n",
       "</table>\n",
       "</div>"
      ],
      "text/plain": [
       "                SEVERITYCODE         X         Y    INCKEY  COLDETKEY  \\\n",
       "SEVERITYCODE        1.000000  0.010238  0.018411  0.030490   0.030505   \n",
       "X                   0.010238  1.000000 -0.160181  0.010394   0.010383   \n",
       "Y                   0.018411 -0.160181  1.000000 -0.026684  -0.026699   \n",
       "INCKEY              0.030490  0.010394 -0.026684  1.000000   0.999996   \n",
       "COLDETKEY           0.030505  0.010383 -0.026699  0.999996   1.000000   \n",
       "STATUS              0.001540  0.002001  0.001997  0.003696   0.003687   \n",
       "PERSONCOUNT         0.127421  0.012762 -0.014076 -0.052618  -0.052520   \n",
       "PEDCOUNT            0.248455  0.011406  0.010419  0.032068   0.032069   \n",
       "PEDCYLCOUNT         0.216223 -0.001871  0.026722  0.037433   0.037392   \n",
       "VEHCOUNT           -0.085072 -0.016047  0.020597 -0.016203  -0.016191   \n",
       "SDOT_COLCODE        0.182801  0.011259 -0.019644 -0.020036  -0.019904   \n",
       "INATTENTIONIND      0.043666 -0.015729  0.008973  0.111585   0.111458   \n",
       "UNDERINFL           0.043044 -0.031686 -0.007046  0.001690   0.001714   \n",
       "PEDROWNOTGRNT       0.208712  0.008432  0.022223 -0.013008  -0.013017   \n",
       "SPEEDING            0.037349 -0.008368 -0.026972 -0.034003  -0.033965   \n",
       "ST_COLCODE          0.043044 -0.031686 -0.007046  0.001690   0.001714   \n",
       "SEGLANEKEY          0.105011 -0.001816  0.004510  0.021890   0.021773   \n",
       "CROSSWALKKEY        0.176460  0.014240  0.009656  0.051604   0.051484   \n",
       "HITPARKEDCAR       -0.101457 -0.016369 -0.012255  0.259684   0.259755   \n",
       "\n",
       "                  STATUS  PERSONCOUNT  PEDCOUNT  PEDCYLCOUNT  VEHCOUNT  \\\n",
       "SEVERITYCODE    0.001540     0.127421  0.248455     0.216223 -0.085072   \n",
       "X               0.002001     0.012762  0.011406    -0.001871 -0.016047   \n",
       "Y               0.001997    -0.014076  0.010419     0.026722  0.020597   \n",
       "INCKEY          0.003696    -0.052618  0.032068     0.037433 -0.016203   \n",
       "COLDETKEY       0.003687    -0.052520  0.032069     0.037392 -0.016191   \n",
       "STATUS          1.000000     0.004233  0.000447     0.000404 -0.000110   \n",
       "PERSONCOUNT     0.004233     1.000000 -0.026985    -0.042417  0.395190   \n",
       "PEDCOUNT        0.000447    -0.026985  1.000000    -0.018374 -0.321602   \n",
       "PEDCYLCOUNT     0.000404    -0.042417 -0.018374     1.000000 -0.310826   \n",
       "VEHCOUNT       -0.000110     0.395190 -0.321602    -0.310826  1.000000   \n",
       "SDOT_COLCODE    0.000014    -0.142455  0.270297     0.397360 -0.468309   \n",
       "INATTENTIONIND  0.001010     0.071937 -0.006499     0.001997  0.047944   \n",
       "UNDERINFL       0.000524     0.021682  0.015394    -0.017622 -0.007975   \n",
       "PEDROWNOTGRNT   0.000375    -0.030600  0.495672     0.323493 -0.280773   \n",
       "SPEEDING        0.000519    -0.001659 -0.033375    -0.020685 -0.040661   \n",
       "ST_COLCODE      0.000524     0.021682  0.015394    -0.017622 -0.007975   \n",
       "SEGLANEKEY      0.000192    -0.022620  0.001465     0.456402 -0.147203   \n",
       "CROSSWALKKEY    0.000321    -0.034724  0.571188     0.109617 -0.241569   \n",
       "HITPARKEDCAR    0.000450    -0.052742 -0.035481    -0.030285  0.069231   \n",
       "\n",
       "                SDOT_COLCODE  INATTENTIONIND  UNDERINFL  PEDROWNOTGRNT  \\\n",
       "SEVERITYCODE        0.182801        0.043666   0.043044       0.208712   \n",
       "X                   0.011259       -0.015729  -0.031686       0.008432   \n",
       "Y                  -0.019644        0.008973  -0.007046       0.022223   \n",
       "INCKEY             -0.020036        0.111585   0.001690      -0.013008   \n",
       "COLDETKEY          -0.019904        0.111458   0.001714      -0.013017   \n",
       "STATUS              0.000014        0.001010   0.000524       0.000375   \n",
       "PERSONCOUNT        -0.142455        0.071937   0.021682      -0.030600   \n",
       "PEDCOUNT            0.270297       -0.006499   0.015394       0.495672   \n",
       "PEDCYLCOUNT         0.397360        0.001997  -0.017622       0.323493   \n",
       "VEHCOUNT           -0.468309        0.047944  -0.007975      -0.280773   \n",
       "SDOT_COLCODE        1.000000        0.024949   0.105569       0.247737   \n",
       "INATTENTIONIND      0.024949        1.000000  -0.028156      -0.028896   \n",
       "UNDERINFL           0.105569       -0.028156   1.000000      -0.018653   \n",
       "PEDROWNOTGRNT       0.247737       -0.028896  -0.018653       1.000000   \n",
       "SPEEDING            0.137602       -0.049923   0.091263      -0.028957   \n",
       "ST_COLCODE          0.105569       -0.028156   1.000000      -0.018653   \n",
       "SEGLANEKEY          0.212419       -0.001322  -0.008831       0.152755   \n",
       "CROSSWALKKEY        0.194349       -0.003091  -0.010162       0.451661   \n",
       "HITPARKEDCAR       -0.095989        0.014174   0.013088      -0.031071   \n",
       "\n",
       "                SPEEDING  ST_COLCODE  SEGLANEKEY  CROSSWALKKEY  HITPARKEDCAR  \n",
       "SEVERITYCODE    0.037349    0.043044    0.105011      0.176460     -0.101457  \n",
       "X              -0.008368   -0.031686   -0.001816      0.014240     -0.016369  \n",
       "Y              -0.026972   -0.007046    0.004510      0.009656     -0.012255  \n",
       "INCKEY         -0.034003    0.001690    0.021890      0.051604      0.259684  \n",
       "COLDETKEY      -0.033965    0.001714    0.021773      0.051484      0.259755  \n",
       "STATUS          0.000519    0.000524    0.000192      0.000321      0.000450  \n",
       "PERSONCOUNT    -0.001659    0.021682   -0.022620     -0.034724     -0.052742  \n",
       "PEDCOUNT       -0.033375    0.015394    0.001465      0.571188     -0.035481  \n",
       "PEDCYLCOUNT    -0.020685   -0.017622    0.456402      0.109617     -0.030285  \n",
       "VEHCOUNT       -0.040661   -0.007975   -0.147203     -0.241569      0.069231  \n",
       "SDOT_COLCODE    0.137602    0.105569    0.212419      0.194349     -0.095989  \n",
       "INATTENTIONIND -0.049923   -0.028156   -0.001322     -0.003091      0.014174  \n",
       "UNDERINFL       0.091263    1.000000   -0.008831     -0.010162      0.013088  \n",
       "PEDROWNOTGRNT  -0.028957   -0.018653    0.152755      0.451661     -0.031071  \n",
       "SPEEDING        1.000000    0.091263   -0.006553     -0.025624     -0.026294  \n",
       "ST_COLCODE      0.091263    1.000000   -0.008831     -0.010162      0.013088  \n",
       "SEGLANEKEY     -0.006553   -0.008831    1.000000     -0.003656     -0.015089  \n",
       "CROSSWALKKEY   -0.025624   -0.010162   -0.003656      1.000000     -0.026651  \n",
       "HITPARKEDCAR   -0.026294    0.013088   -0.015089     -0.026651      1.000000  "
      ]
     },
     "execution_count": 21,
     "metadata": {},
     "output_type": "execute_result"
    }
   ],
   "source": [
    "df.corr()"
   ]
  },
  {
   "cell_type": "markdown",
   "metadata": {},
   "source": [
    "numeric value: which have reletive higher correlation with \"Severitycode\"? (choose correlation > 0.1)\n",
    "\"PERSONCOUNT\",\"PEDCOUND\", \"PEDCYLCOUNT\",\"SDOT_COLCODE\",\"PEDROWNOTGRNT\",\"SEGLANEKEY\",\"CROSSWALKKEY\""
   ]
  },
  {
   "cell_type": "code",
   "execution_count": 28,
   "metadata": {},
   "outputs": [
    {
     "data": {
      "text/html": [
       "<div>\n",
       "<style scoped>\n",
       "    .dataframe tbody tr th:only-of-type {\n",
       "        vertical-align: middle;\n",
       "    }\n",
       "\n",
       "    .dataframe tbody tr th {\n",
       "        vertical-align: top;\n",
       "    }\n",
       "\n",
       "    .dataframe thead th {\n",
       "        text-align: right;\n",
       "    }\n",
       "</style>\n",
       "<table border=\"1\" class=\"dataframe\">\n",
       "  <thead>\n",
       "    <tr style=\"text-align: right;\">\n",
       "      <th></th>\n",
       "      <th>SEVERITYCODE</th>\n",
       "      <th>PERSONCOUNT</th>\n",
       "      <th>PEDCOUNT</th>\n",
       "      <th>PEDCYLCOUNT</th>\n",
       "      <th>SDOT_COLCODE</th>\n",
       "      <th>PEDROWNOTGRNT</th>\n",
       "      <th>SEGLANEKEY</th>\n",
       "      <th>CROSSWALKKEY</th>\n",
       "    </tr>\n",
       "  </thead>\n",
       "  <tbody>\n",
       "    <tr>\n",
       "      <th>0</th>\n",
       "      <td>2</td>\n",
       "      <td>2</td>\n",
       "      <td>0</td>\n",
       "      <td>0</td>\n",
       "      <td>11</td>\n",
       "      <td>0</td>\n",
       "      <td>0</td>\n",
       "      <td>0</td>\n",
       "    </tr>\n",
       "    <tr>\n",
       "      <th>1</th>\n",
       "      <td>1</td>\n",
       "      <td>2</td>\n",
       "      <td>0</td>\n",
       "      <td>0</td>\n",
       "      <td>16</td>\n",
       "      <td>0</td>\n",
       "      <td>0</td>\n",
       "      <td>0</td>\n",
       "    </tr>\n",
       "    <tr>\n",
       "      <th>2</th>\n",
       "      <td>1</td>\n",
       "      <td>4</td>\n",
       "      <td>0</td>\n",
       "      <td>0</td>\n",
       "      <td>14</td>\n",
       "      <td>0</td>\n",
       "      <td>0</td>\n",
       "      <td>0</td>\n",
       "    </tr>\n",
       "    <tr>\n",
       "      <th>3</th>\n",
       "      <td>1</td>\n",
       "      <td>3</td>\n",
       "      <td>0</td>\n",
       "      <td>0</td>\n",
       "      <td>11</td>\n",
       "      <td>0</td>\n",
       "      <td>0</td>\n",
       "      <td>0</td>\n",
       "    </tr>\n",
       "    <tr>\n",
       "      <th>4</th>\n",
       "      <td>2</td>\n",
       "      <td>2</td>\n",
       "      <td>0</td>\n",
       "      <td>0</td>\n",
       "      <td>11</td>\n",
       "      <td>0</td>\n",
       "      <td>0</td>\n",
       "      <td>0</td>\n",
       "    </tr>\n",
       "  </tbody>\n",
       "</table>\n",
       "</div>"
      ],
      "text/plain": [
       "   SEVERITYCODE  PERSONCOUNT  PEDCOUNT  PEDCYLCOUNT  SDOT_COLCODE  \\\n",
       "0             2            2         0            0            11   \n",
       "1             1            2         0            0            16   \n",
       "2             1            4         0            0            14   \n",
       "3             1            3         0            0            11   \n",
       "4             2            2         0            0            11   \n",
       "\n",
       "   PEDROWNOTGRNT  SEGLANEKEY  CROSSWALKKEY  \n",
       "0              0           0             0  \n",
       "1              0           0             0  \n",
       "2              0           0             0  \n",
       "3              0           0             0  \n",
       "4              0           0             0  "
      ]
     },
     "execution_count": 28,
     "metadata": {},
     "output_type": "execute_result"
    }
   ],
   "source": [
    "df_col=df[[\"SEVERITYCODE\",\"PERSONCOUNT\",\"PEDCOUNT\",\"PEDCYLCOUNT\",\"SDOT_COLCODE\",\"PEDROWNOTGRNT\",\"SEGLANEKEY\",\"CROSSWALKKEY\"]]\n",
    "df_col.head()"
   ]
  },
  {
   "cell_type": "markdown",
   "metadata": {},
   "source": [
    "#### In consideration of objective value ####\n"
   ]
  },
  {
   "cell_type": "code",
   "execution_count": 29,
   "metadata": {},
   "outputs": [
    {
     "data": {
      "text/html": [
       "<div>\n",
       "<style scoped>\n",
       "    .dataframe tbody tr th:only-of-type {\n",
       "        vertical-align: middle;\n",
       "    }\n",
       "\n",
       "    .dataframe tbody tr th {\n",
       "        vertical-align: top;\n",
       "    }\n",
       "\n",
       "    .dataframe thead th {\n",
       "        text-align: right;\n",
       "    }\n",
       "</style>\n",
       "<table border=\"1\" class=\"dataframe\">\n",
       "  <thead>\n",
       "    <tr style=\"text-align: right;\">\n",
       "      <th></th>\n",
       "      <th>SEVERITYCODE</th>\n",
       "      <th>X</th>\n",
       "      <th>Y</th>\n",
       "      <th>ADDRTYPE</th>\n",
       "      <th>WEATHER</th>\n",
       "      <th>ROADCOND</th>\n",
       "      <th>LIGHTCOND</th>\n",
       "      <th>INCDATE</th>\n",
       "      <th>INCDTTM</th>\n",
       "    </tr>\n",
       "  </thead>\n",
       "  <tbody>\n",
       "    <tr>\n",
       "      <th>0</th>\n",
       "      <td>2</td>\n",
       "      <td>-122.323148</td>\n",
       "      <td>47.703140</td>\n",
       "      <td>Intersection</td>\n",
       "      <td>Overcast</td>\n",
       "      <td>Wet</td>\n",
       "      <td>Daylight</td>\n",
       "      <td>2013/03/27 00:00:00+00</td>\n",
       "      <td>3/27/2013 2:54:00 PM</td>\n",
       "    </tr>\n",
       "    <tr>\n",
       "      <th>1</th>\n",
       "      <td>1</td>\n",
       "      <td>-122.347294</td>\n",
       "      <td>47.647172</td>\n",
       "      <td>Block</td>\n",
       "      <td>Raining</td>\n",
       "      <td>Wet</td>\n",
       "      <td>Dark - Street Lights On</td>\n",
       "      <td>2006/12/20 00:00:00+00</td>\n",
       "      <td>12/20/2006 6:55:00 PM</td>\n",
       "    </tr>\n",
       "    <tr>\n",
       "      <th>2</th>\n",
       "      <td>1</td>\n",
       "      <td>-122.334540</td>\n",
       "      <td>47.607871</td>\n",
       "      <td>Block</td>\n",
       "      <td>Overcast</td>\n",
       "      <td>Dry</td>\n",
       "      <td>Daylight</td>\n",
       "      <td>2004/11/18 00:00:00+00</td>\n",
       "      <td>11/18/2004 10:20:00 AM</td>\n",
       "    </tr>\n",
       "    <tr>\n",
       "      <th>3</th>\n",
       "      <td>1</td>\n",
       "      <td>-122.334803</td>\n",
       "      <td>47.604803</td>\n",
       "      <td>Block</td>\n",
       "      <td>Clear</td>\n",
       "      <td>Dry</td>\n",
       "      <td>Daylight</td>\n",
       "      <td>2013/03/29 00:00:00+00</td>\n",
       "      <td>3/29/2013 9:26:00 AM</td>\n",
       "    </tr>\n",
       "    <tr>\n",
       "      <th>4</th>\n",
       "      <td>2</td>\n",
       "      <td>-122.306426</td>\n",
       "      <td>47.545739</td>\n",
       "      <td>Intersection</td>\n",
       "      <td>Raining</td>\n",
       "      <td>Wet</td>\n",
       "      <td>Daylight</td>\n",
       "      <td>2004/01/28 00:00:00+00</td>\n",
       "      <td>1/28/2004 8:04:00 AM</td>\n",
       "    </tr>\n",
       "  </tbody>\n",
       "</table>\n",
       "</div>"
      ],
      "text/plain": [
       "   SEVERITYCODE           X          Y      ADDRTYPE   WEATHER ROADCOND  \\\n",
       "0             2 -122.323148  47.703140  Intersection  Overcast      Wet   \n",
       "1             1 -122.347294  47.647172         Block   Raining      Wet   \n",
       "2             1 -122.334540  47.607871         Block  Overcast      Dry   \n",
       "3             1 -122.334803  47.604803         Block     Clear      Dry   \n",
       "4             2 -122.306426  47.545739  Intersection   Raining      Wet   \n",
       "\n",
       "                 LIGHTCOND                 INCDATE                 INCDTTM  \n",
       "0                 Daylight  2013/03/27 00:00:00+00    3/27/2013 2:54:00 PM  \n",
       "1  Dark - Street Lights On  2006/12/20 00:00:00+00   12/20/2006 6:55:00 PM  \n",
       "2                 Daylight  2004/11/18 00:00:00+00  11/18/2004 10:20:00 AM  \n",
       "3                 Daylight  2013/03/29 00:00:00+00    3/29/2013 9:26:00 AM  \n",
       "4                 Daylight  2004/01/28 00:00:00+00    1/28/2004 8:04:00 AM  "
      ]
     },
     "execution_count": 29,
     "metadata": {},
     "output_type": "execute_result"
    }
   ],
   "source": [
    "df1=df[[\"SEVERITYCODE\",\"X\",\"Y\",\"ADDRTYPE\", \"WEATHER\",\n",
    "           \"ROADCOND\",\"LIGHTCOND\",\"INCDATE\",\"INCDTTM\"]]\n",
    "df1.head()"
   ]
  },
  {
   "cell_type": "markdown",
   "metadata": {},
   "source": [
    "- Data Formatting with object datatype"
   ]
  },
  {
   "cell_type": "code",
   "execution_count": 16,
   "metadata": {},
   "outputs": [],
   "source": [
    "import datetime"
   ]
  },
  {
   "cell_type": "code",
   "execution_count": 30,
   "metadata": {},
   "outputs": [
    {
     "name": "stderr",
     "output_type": "stream",
     "text": [
      "/home/jupyterlab/conda/envs/python/lib/python3.6/site-packages/ipykernel_launcher.py:1: SettingWithCopyWarning: \n",
      "A value is trying to be set on a copy of a slice from a DataFrame.\n",
      "Try using .loc[row_indexer,col_indexer] = value instead\n",
      "\n",
      "See the caveats in the documentation: https://pandas.pydata.org/pandas-docs/stable/user_guide/indexing.html#returning-a-view-versus-a-copy\n",
      "  \"\"\"Entry point for launching an IPython kernel.\n",
      "/home/jupyterlab/conda/envs/python/lib/python3.6/site-packages/ipykernel_launcher.py:2: SettingWithCopyWarning: \n",
      "A value is trying to be set on a copy of a slice from a DataFrame.\n",
      "Try using .loc[row_indexer,col_indexer] = value instead\n",
      "\n",
      "See the caveats in the documentation: https://pandas.pydata.org/pandas-docs/stable/user_guide/indexing.html#returning-a-view-versus-a-copy\n",
      "  \n"
     ]
    }
   ],
   "source": [
    "df1['INCDATE'] = pd.to_datetime(df1['INCDATE'])\n",
    "df1['INCDTTM'] = pd.to_datetime(df1['INCDTTM'])"
   ]
  },
  {
   "cell_type": "code",
   "execution_count": 26,
   "metadata": {
    "collapsed": true,
    "jupyter": {
     "outputs_hidden": true
    }
   },
   "outputs": [
    {
     "data": {
      "text/html": [
       "<div>\n",
       "<style scoped>\n",
       "    .dataframe tbody tr th:only-of-type {\n",
       "        vertical-align: middle;\n",
       "    }\n",
       "\n",
       "    .dataframe tbody tr th {\n",
       "        vertical-align: top;\n",
       "    }\n",
       "\n",
       "    .dataframe thead th {\n",
       "        text-align: right;\n",
       "    }\n",
       "</style>\n",
       "<table border=\"1\" class=\"dataframe\">\n",
       "  <thead>\n",
       "    <tr style=\"text-align: right;\">\n",
       "      <th></th>\n",
       "      <th>SEVERITYCODE</th>\n",
       "      <th>X</th>\n",
       "      <th>Y</th>\n",
       "      <th>ADDRTYPE</th>\n",
       "      <th>WEATHER</th>\n",
       "      <th>ROADCOND</th>\n",
       "      <th>LIGHTCOND</th>\n",
       "      <th>INCDATE</th>\n",
       "      <th>INCDTTM</th>\n",
       "    </tr>\n",
       "  </thead>\n",
       "  <tbody>\n",
       "    <tr>\n",
       "      <th>0</th>\n",
       "      <td>2</td>\n",
       "      <td>-122.323148</td>\n",
       "      <td>47.703140</td>\n",
       "      <td>Intersection</td>\n",
       "      <td>Overcast</td>\n",
       "      <td>Wet</td>\n",
       "      <td>Daylight</td>\n",
       "      <td>2013-03-27 00:00:00+00:00</td>\n",
       "      <td>2013-03-27 14:54:00</td>\n",
       "    </tr>\n",
       "    <tr>\n",
       "      <th>1</th>\n",
       "      <td>1</td>\n",
       "      <td>-122.347294</td>\n",
       "      <td>47.647172</td>\n",
       "      <td>Block</td>\n",
       "      <td>Raining</td>\n",
       "      <td>Wet</td>\n",
       "      <td>Dark - Street Lights On</td>\n",
       "      <td>2006-12-20 00:00:00+00:00</td>\n",
       "      <td>2006-12-20 18:55:00</td>\n",
       "    </tr>\n",
       "    <tr>\n",
       "      <th>2</th>\n",
       "      <td>1</td>\n",
       "      <td>-122.334540</td>\n",
       "      <td>47.607871</td>\n",
       "      <td>Block</td>\n",
       "      <td>Overcast</td>\n",
       "      <td>Dry</td>\n",
       "      <td>Daylight</td>\n",
       "      <td>2004-11-18 00:00:00+00:00</td>\n",
       "      <td>2004-11-18 10:20:00</td>\n",
       "    </tr>\n",
       "    <tr>\n",
       "      <th>3</th>\n",
       "      <td>1</td>\n",
       "      <td>-122.334803</td>\n",
       "      <td>47.604803</td>\n",
       "      <td>Block</td>\n",
       "      <td>Clear</td>\n",
       "      <td>Dry</td>\n",
       "      <td>Daylight</td>\n",
       "      <td>2013-03-29 00:00:00+00:00</td>\n",
       "      <td>2013-03-29 09:26:00</td>\n",
       "    </tr>\n",
       "    <tr>\n",
       "      <th>4</th>\n",
       "      <td>2</td>\n",
       "      <td>-122.306426</td>\n",
       "      <td>47.545739</td>\n",
       "      <td>Intersection</td>\n",
       "      <td>Raining</td>\n",
       "      <td>Wet</td>\n",
       "      <td>Daylight</td>\n",
       "      <td>2004-01-28 00:00:00+00:00</td>\n",
       "      <td>2004-01-28 08:04:00</td>\n",
       "    </tr>\n",
       "  </tbody>\n",
       "</table>\n",
       "</div>"
      ],
      "text/plain": [
       "   SEVERITYCODE           X          Y      ADDRTYPE   WEATHER ROADCOND  \\\n",
       "0             2 -122.323148  47.703140  Intersection  Overcast      Wet   \n",
       "1             1 -122.347294  47.647172         Block   Raining      Wet   \n",
       "2             1 -122.334540  47.607871         Block  Overcast      Dry   \n",
       "3             1 -122.334803  47.604803         Block     Clear      Dry   \n",
       "4             2 -122.306426  47.545739  Intersection   Raining      Wet   \n",
       "\n",
       "                 LIGHTCOND                   INCDATE             INCDTTM  \n",
       "0                 Daylight 2013-03-27 00:00:00+00:00 2013-03-27 14:54:00  \n",
       "1  Dark - Street Lights On 2006-12-20 00:00:00+00:00 2006-12-20 18:55:00  \n",
       "2                 Daylight 2004-11-18 00:00:00+00:00 2004-11-18 10:20:00  \n",
       "3                 Daylight 2013-03-29 00:00:00+00:00 2013-03-29 09:26:00  \n",
       "4                 Daylight 2004-01-28 00:00:00+00:00 2004-01-28 08:04:00  "
      ]
     },
     "execution_count": 26,
     "metadata": {},
     "output_type": "execute_result"
    }
   ],
   "source": [
    "df1.head()"
   ]
  },
  {
   "cell_type": "code",
   "execution_count": 31,
   "metadata": {},
   "outputs": [
    {
     "name": "stderr",
     "output_type": "stream",
     "text": [
      "/home/jupyterlab/conda/envs/python/lib/python3.6/site-packages/ipykernel_launcher.py:1: SettingWithCopyWarning: \n",
      "A value is trying to be set on a copy of a slice from a DataFrame.\n",
      "Try using .loc[row_indexer,col_indexer] = value instead\n",
      "\n",
      "See the caveats in the documentation: https://pandas.pydata.org/pandas-docs/stable/user_guide/indexing.html#returning-a-view-versus-a-copy\n",
      "  \"\"\"Entry point for launching an IPython kernel.\n",
      "/home/jupyterlab/conda/envs/python/lib/python3.6/site-packages/ipykernel_launcher.py:2: SettingWithCopyWarning: \n",
      "A value is trying to be set on a copy of a slice from a DataFrame.\n",
      "Try using .loc[row_indexer,col_indexer] = value instead\n",
      "\n",
      "See the caveats in the documentation: https://pandas.pydata.org/pandas-docs/stable/user_guide/indexing.html#returning-a-view-versus-a-copy\n",
      "  \n"
     ]
    }
   ],
   "source": [
    "df1[\"DayofWeek\"]=df1[\"INCDATE\"].dt.dayofweek\n",
    "df1[\"hour\"]=df1[\"INCDTTM\"].dt.hour"
   ]
  },
  {
   "cell_type": "code",
   "execution_count": 28,
   "metadata": {
    "collapsed": true,
    "jupyter": {
     "outputs_hidden": true
    }
   },
   "outputs": [
    {
     "data": {
      "text/html": [
       "<div>\n",
       "<style scoped>\n",
       "    .dataframe tbody tr th:only-of-type {\n",
       "        vertical-align: middle;\n",
       "    }\n",
       "\n",
       "    .dataframe tbody tr th {\n",
       "        vertical-align: top;\n",
       "    }\n",
       "\n",
       "    .dataframe thead th {\n",
       "        text-align: right;\n",
       "    }\n",
       "</style>\n",
       "<table border=\"1\" class=\"dataframe\">\n",
       "  <thead>\n",
       "    <tr style=\"text-align: right;\">\n",
       "      <th></th>\n",
       "      <th>SEVERITYCODE</th>\n",
       "      <th>X</th>\n",
       "      <th>Y</th>\n",
       "      <th>ADDRTYPE</th>\n",
       "      <th>WEATHER</th>\n",
       "      <th>ROADCOND</th>\n",
       "      <th>LIGHTCOND</th>\n",
       "      <th>INCDATE</th>\n",
       "      <th>INCDTTM</th>\n",
       "      <th>DayofWeek</th>\n",
       "      <th>hour</th>\n",
       "    </tr>\n",
       "  </thead>\n",
       "  <tbody>\n",
       "    <tr>\n",
       "      <th>0</th>\n",
       "      <td>2</td>\n",
       "      <td>-122.323148</td>\n",
       "      <td>47.703140</td>\n",
       "      <td>Intersection</td>\n",
       "      <td>Overcast</td>\n",
       "      <td>Wet</td>\n",
       "      <td>Daylight</td>\n",
       "      <td>2013-03-27 00:00:00+00:00</td>\n",
       "      <td>2013-03-27 14:54:00</td>\n",
       "      <td>2</td>\n",
       "      <td>14</td>\n",
       "    </tr>\n",
       "    <tr>\n",
       "      <th>1</th>\n",
       "      <td>1</td>\n",
       "      <td>-122.347294</td>\n",
       "      <td>47.647172</td>\n",
       "      <td>Block</td>\n",
       "      <td>Raining</td>\n",
       "      <td>Wet</td>\n",
       "      <td>Dark - Street Lights On</td>\n",
       "      <td>2006-12-20 00:00:00+00:00</td>\n",
       "      <td>2006-12-20 18:55:00</td>\n",
       "      <td>2</td>\n",
       "      <td>18</td>\n",
       "    </tr>\n",
       "    <tr>\n",
       "      <th>2</th>\n",
       "      <td>1</td>\n",
       "      <td>-122.334540</td>\n",
       "      <td>47.607871</td>\n",
       "      <td>Block</td>\n",
       "      <td>Overcast</td>\n",
       "      <td>Dry</td>\n",
       "      <td>Daylight</td>\n",
       "      <td>2004-11-18 00:00:00+00:00</td>\n",
       "      <td>2004-11-18 10:20:00</td>\n",
       "      <td>3</td>\n",
       "      <td>10</td>\n",
       "    </tr>\n",
       "    <tr>\n",
       "      <th>3</th>\n",
       "      <td>1</td>\n",
       "      <td>-122.334803</td>\n",
       "      <td>47.604803</td>\n",
       "      <td>Block</td>\n",
       "      <td>Clear</td>\n",
       "      <td>Dry</td>\n",
       "      <td>Daylight</td>\n",
       "      <td>2013-03-29 00:00:00+00:00</td>\n",
       "      <td>2013-03-29 09:26:00</td>\n",
       "      <td>4</td>\n",
       "      <td>9</td>\n",
       "    </tr>\n",
       "    <tr>\n",
       "      <th>4</th>\n",
       "      <td>2</td>\n",
       "      <td>-122.306426</td>\n",
       "      <td>47.545739</td>\n",
       "      <td>Intersection</td>\n",
       "      <td>Raining</td>\n",
       "      <td>Wet</td>\n",
       "      <td>Daylight</td>\n",
       "      <td>2004-01-28 00:00:00+00:00</td>\n",
       "      <td>2004-01-28 08:04:00</td>\n",
       "      <td>2</td>\n",
       "      <td>8</td>\n",
       "    </tr>\n",
       "    <tr>\n",
       "      <th>5</th>\n",
       "      <td>1</td>\n",
       "      <td>-122.387598</td>\n",
       "      <td>47.690575</td>\n",
       "      <td>Intersection</td>\n",
       "      <td>Clear</td>\n",
       "      <td>Dry</td>\n",
       "      <td>Daylight</td>\n",
       "      <td>2019-04-20 00:00:00+00:00</td>\n",
       "      <td>2019-04-20 17:42:00</td>\n",
       "      <td>5</td>\n",
       "      <td>17</td>\n",
       "    </tr>\n",
       "    <tr>\n",
       "      <th>6</th>\n",
       "      <td>1</td>\n",
       "      <td>-122.338485</td>\n",
       "      <td>47.618534</td>\n",
       "      <td>Intersection</td>\n",
       "      <td>Raining</td>\n",
       "      <td>Wet</td>\n",
       "      <td>Daylight</td>\n",
       "      <td>2008-12-09 00:00:00+00:00</td>\n",
       "      <td>2008-12-09 00:00:00</td>\n",
       "      <td>1</td>\n",
       "      <td>0</td>\n",
       "    </tr>\n",
       "    <tr>\n",
       "      <th>7</th>\n",
       "      <td>2</td>\n",
       "      <td>-122.320780</td>\n",
       "      <td>47.614076</td>\n",
       "      <td>Intersection</td>\n",
       "      <td>Clear</td>\n",
       "      <td>Dry</td>\n",
       "      <td>Daylight</td>\n",
       "      <td>2020-04-15 00:00:00+00:00</td>\n",
       "      <td>2020-04-15 17:47:00</td>\n",
       "      <td>2</td>\n",
       "      <td>17</td>\n",
       "    </tr>\n",
       "    <tr>\n",
       "      <th>8</th>\n",
       "      <td>1</td>\n",
       "      <td>-122.335930</td>\n",
       "      <td>47.611904</td>\n",
       "      <td>Block</td>\n",
       "      <td>Clear</td>\n",
       "      <td>Dry</td>\n",
       "      <td>Daylight</td>\n",
       "      <td>2006-06-15 00:00:00+00:00</td>\n",
       "      <td>2006-06-15 13:00:00</td>\n",
       "      <td>3</td>\n",
       "      <td>13</td>\n",
       "    </tr>\n",
       "    <tr>\n",
       "      <th>9</th>\n",
       "      <td>2</td>\n",
       "      <td>-122.384700</td>\n",
       "      <td>47.528475</td>\n",
       "      <td>Intersection</td>\n",
       "      <td>Clear</td>\n",
       "      <td>Dry</td>\n",
       "      <td>Daylight</td>\n",
       "      <td>2006-03-20 00:00:00+00:00</td>\n",
       "      <td>2006-03-20 15:49:00</td>\n",
       "      <td>0</td>\n",
       "      <td>15</td>\n",
       "    </tr>\n",
       "  </tbody>\n",
       "</table>\n",
       "</div>"
      ],
      "text/plain": [
       "   SEVERITYCODE           X          Y      ADDRTYPE   WEATHER ROADCOND  \\\n",
       "0             2 -122.323148  47.703140  Intersection  Overcast      Wet   \n",
       "1             1 -122.347294  47.647172         Block   Raining      Wet   \n",
       "2             1 -122.334540  47.607871         Block  Overcast      Dry   \n",
       "3             1 -122.334803  47.604803         Block     Clear      Dry   \n",
       "4             2 -122.306426  47.545739  Intersection   Raining      Wet   \n",
       "5             1 -122.387598  47.690575  Intersection     Clear      Dry   \n",
       "6             1 -122.338485  47.618534  Intersection   Raining      Wet   \n",
       "7             2 -122.320780  47.614076  Intersection     Clear      Dry   \n",
       "8             1 -122.335930  47.611904         Block     Clear      Dry   \n",
       "9             2 -122.384700  47.528475  Intersection     Clear      Dry   \n",
       "\n",
       "                 LIGHTCOND                   INCDATE             INCDTTM  \\\n",
       "0                 Daylight 2013-03-27 00:00:00+00:00 2013-03-27 14:54:00   \n",
       "1  Dark - Street Lights On 2006-12-20 00:00:00+00:00 2006-12-20 18:55:00   \n",
       "2                 Daylight 2004-11-18 00:00:00+00:00 2004-11-18 10:20:00   \n",
       "3                 Daylight 2013-03-29 00:00:00+00:00 2013-03-29 09:26:00   \n",
       "4                 Daylight 2004-01-28 00:00:00+00:00 2004-01-28 08:04:00   \n",
       "5                 Daylight 2019-04-20 00:00:00+00:00 2019-04-20 17:42:00   \n",
       "6                 Daylight 2008-12-09 00:00:00+00:00 2008-12-09 00:00:00   \n",
       "7                 Daylight 2020-04-15 00:00:00+00:00 2020-04-15 17:47:00   \n",
       "8                 Daylight 2006-06-15 00:00:00+00:00 2006-06-15 13:00:00   \n",
       "9                 Daylight 2006-03-20 00:00:00+00:00 2006-03-20 15:49:00   \n",
       "\n",
       "   DayofWeek  hour  \n",
       "0          2    14  \n",
       "1          2    18  \n",
       "2          3    10  \n",
       "3          4     9  \n",
       "4          2     8  \n",
       "5          5    17  \n",
       "6          1     0  \n",
       "7          2    17  \n",
       "8          3    13  \n",
       "9          0    15  "
      ]
     },
     "execution_count": 28,
     "metadata": {},
     "output_type": "execute_result"
    }
   ],
   "source": [
    "df1.head(10)"
   ]
  },
  {
   "cell_type": "code",
   "execution_count": 32,
   "metadata": {},
   "outputs": [
    {
     "data": {
      "text/plain": [
       "<AxesSubplot:xlabel='DayofWeek'>"
      ]
     },
     "execution_count": 32,
     "metadata": {},
     "output_type": "execute_result"
    },
    {
     "data": {
      "image/png": "[encoded data removed]",
      "text/plain": [
       "<Figure size 432x288 with 1 Axes>"
      ]
     },
     "metadata": {
      "needs_background": "light"
     },
     "output_type": "display_data"
    }
   ],
   "source": [
    "day_of_week = pd.DataFrame(df1.groupby([\"DayofWeek\"])[\"SEVERITYCODE\"].value_counts())\n",
    "day_of_week.unstack().plot(kind=\"bar\")"
   ]
  },
  {
   "cell_type": "code",
   "execution_count": 30,
   "metadata": {
    "collapsed": true,
    "jupyter": {
     "outputs_hidden": true
    }
   },
   "outputs": [
    {
     "data": {
      "text/html": [
       "<div>\n",
       "<style scoped>\n",
       "    .dataframe tbody tr th:only-of-type {\n",
       "        vertical-align: middle;\n",
       "    }\n",
       "\n",
       "    .dataframe tbody tr th {\n",
       "        vertical-align: top;\n",
       "    }\n",
       "\n",
       "    .dataframe thead th {\n",
       "        text-align: right;\n",
       "    }\n",
       "</style>\n",
       "<table border=\"1\" class=\"dataframe\">\n",
       "  <thead>\n",
       "    <tr style=\"text-align: right;\">\n",
       "      <th></th>\n",
       "      <th></th>\n",
       "      <th>SEVERITYCODE</th>\n",
       "    </tr>\n",
       "    <tr>\n",
       "      <th>hour</th>\n",
       "      <th>SEVERITYCODE</th>\n",
       "      <th></th>\n",
       "    </tr>\n",
       "  </thead>\n",
       "  <tbody>\n",
       "    <tr>\n",
       "      <th rowspan=\"2\" valign=\"top\">0</th>\n",
       "      <th>1</th>\n",
       "      <td>20564</td>\n",
       "    </tr>\n",
       "    <tr>\n",
       "      <th>2</th>\n",
       "      <td>8020</td>\n",
       "    </tr>\n",
       "    <tr>\n",
       "      <th rowspan=\"2\" valign=\"top\">1</th>\n",
       "      <th>1</th>\n",
       "      <td>2479</td>\n",
       "    </tr>\n",
       "    <tr>\n",
       "      <th>2</th>\n",
       "      <td>816</td>\n",
       "    </tr>\n",
       "    <tr>\n",
       "      <th rowspan=\"2\" valign=\"top\">2</th>\n",
       "      <th>1</th>\n",
       "      <td>2621</td>\n",
       "    </tr>\n",
       "    <tr>\n",
       "      <th>2</th>\n",
       "      <td>837</td>\n",
       "    </tr>\n",
       "    <tr>\n",
       "      <th rowspan=\"2\" valign=\"top\">3</th>\n",
       "      <th>1</th>\n",
       "      <td>1263</td>\n",
       "    </tr>\n",
       "    <tr>\n",
       "      <th>2</th>\n",
       "      <td>331</td>\n",
       "    </tr>\n",
       "    <tr>\n",
       "      <th rowspan=\"2\" valign=\"top\">4</th>\n",
       "      <th>1</th>\n",
       "      <td>913</td>\n",
       "    </tr>\n",
       "    <tr>\n",
       "      <th>2</th>\n",
       "      <td>265</td>\n",
       "    </tr>\n",
       "    <tr>\n",
       "      <th rowspan=\"2\" valign=\"top\">5</th>\n",
       "      <th>1</th>\n",
       "      <td>1116</td>\n",
       "    </tr>\n",
       "    <tr>\n",
       "      <th>2</th>\n",
       "      <td>468</td>\n",
       "    </tr>\n",
       "    <tr>\n",
       "      <th rowspan=\"2\" valign=\"top\">6</th>\n",
       "      <th>1</th>\n",
       "      <td>2089</td>\n",
       "    </tr>\n",
       "    <tr>\n",
       "      <th>2</th>\n",
       "      <td>995</td>\n",
       "    </tr>\n",
       "    <tr>\n",
       "      <th rowspan=\"2\" valign=\"top\">7</th>\n",
       "      <th>1</th>\n",
       "      <td>4245</td>\n",
       "    </tr>\n",
       "    <tr>\n",
       "      <th>2</th>\n",
       "      <td>2106</td>\n",
       "    </tr>\n",
       "    <tr>\n",
       "      <th rowspan=\"2\" valign=\"top\">8</th>\n",
       "      <th>1</th>\n",
       "      <td>5654</td>\n",
       "    </tr>\n",
       "    <tr>\n",
       "      <th>2</th>\n",
       "      <td>2618</td>\n",
       "    </tr>\n",
       "    <tr>\n",
       "      <th rowspan=\"2\" valign=\"top\">9</th>\n",
       "      <th>1</th>\n",
       "      <td>5437</td>\n",
       "    </tr>\n",
       "    <tr>\n",
       "      <th>2</th>\n",
       "      <td>2361</td>\n",
       "    </tr>\n",
       "    <tr>\n",
       "      <th rowspan=\"2\" valign=\"top\">10</th>\n",
       "      <th>1</th>\n",
       "      <td>5128</td>\n",
       "    </tr>\n",
       "    <tr>\n",
       "      <th>2</th>\n",
       "      <td>2095</td>\n",
       "    </tr>\n",
       "    <tr>\n",
       "      <th rowspan=\"2\" valign=\"top\">11</th>\n",
       "      <th>1</th>\n",
       "      <td>5631</td>\n",
       "    </tr>\n",
       "    <tr>\n",
       "      <th>2</th>\n",
       "      <td>2346</td>\n",
       "    </tr>\n",
       "    <tr>\n",
       "      <th rowspan=\"2\" valign=\"top\">12</th>\n",
       "      <th>1</th>\n",
       "      <td>7126</td>\n",
       "    </tr>\n",
       "    <tr>\n",
       "      <th>2</th>\n",
       "      <td>2938</td>\n",
       "    </tr>\n",
       "    <tr>\n",
       "      <th rowspan=\"2\" valign=\"top\">13</th>\n",
       "      <th>1</th>\n",
       "      <td>6939</td>\n",
       "    </tr>\n",
       "    <tr>\n",
       "      <th>2</th>\n",
       "      <td>3041</td>\n",
       "    </tr>\n",
       "    <tr>\n",
       "      <th rowspan=\"2\" valign=\"top\">14</th>\n",
       "      <th>1</th>\n",
       "      <td>7054</td>\n",
       "    </tr>\n",
       "    <tr>\n",
       "      <th>2</th>\n",
       "      <td>3316</td>\n",
       "    </tr>\n",
       "    <tr>\n",
       "      <th rowspan=\"2\" valign=\"top\">15</th>\n",
       "      <th>1</th>\n",
       "      <td>7522</td>\n",
       "    </tr>\n",
       "    <tr>\n",
       "      <th>2</th>\n",
       "      <td>3688</td>\n",
       "    </tr>\n",
       "    <tr>\n",
       "      <th rowspan=\"2\" valign=\"top\">16</th>\n",
       "      <th>1</th>\n",
       "      <td>7869</td>\n",
       "    </tr>\n",
       "    <tr>\n",
       "      <th>2</th>\n",
       "      <td>3944</td>\n",
       "    </tr>\n",
       "    <tr>\n",
       "      <th rowspan=\"2\" valign=\"top\">17</th>\n",
       "      <th>1</th>\n",
       "      <td>8171</td>\n",
       "    </tr>\n",
       "    <tr>\n",
       "      <th>2</th>\n",
       "      <td>4426</td>\n",
       "    </tr>\n",
       "    <tr>\n",
       "      <th rowspan=\"2\" valign=\"top\">18</th>\n",
       "      <th>1</th>\n",
       "      <td>6203</td>\n",
       "    </tr>\n",
       "    <tr>\n",
       "      <th>2</th>\n",
       "      <td>3265</td>\n",
       "    </tr>\n",
       "    <tr>\n",
       "      <th rowspan=\"2\" valign=\"top\">19</th>\n",
       "      <th>1</th>\n",
       "      <td>4816</td>\n",
       "    </tr>\n",
       "    <tr>\n",
       "      <th>2</th>\n",
       "      <td>2245</td>\n",
       "    </tr>\n",
       "    <tr>\n",
       "      <th rowspan=\"2\" valign=\"top\">20</th>\n",
       "      <th>1</th>\n",
       "      <td>4317</td>\n",
       "    </tr>\n",
       "    <tr>\n",
       "      <th>2</th>\n",
       "      <td>1724</td>\n",
       "    </tr>\n",
       "    <tr>\n",
       "      <th rowspan=\"2\" valign=\"top\">21</th>\n",
       "      <th>1</th>\n",
       "      <td>3828</td>\n",
       "    </tr>\n",
       "    <tr>\n",
       "      <th>2</th>\n",
       "      <td>1588</td>\n",
       "    </tr>\n",
       "    <tr>\n",
       "      <th rowspan=\"2\" valign=\"top\">22</th>\n",
       "      <th>1</th>\n",
       "      <td>3808</td>\n",
       "    </tr>\n",
       "    <tr>\n",
       "      <th>2</th>\n",
       "      <td>1490</td>\n",
       "    </tr>\n",
       "    <tr>\n",
       "      <th rowspan=\"2\" valign=\"top\">23</th>\n",
       "      <th>1</th>\n",
       "      <td>3356</td>\n",
       "    </tr>\n",
       "    <tr>\n",
       "      <th>2</th>\n",
       "      <td>1077</td>\n",
       "    </tr>\n",
       "  </tbody>\n",
       "</table>\n",
       "</div>"
      ],
      "text/plain": [
       "                   SEVERITYCODE\n",
       "hour SEVERITYCODE              \n",
       "0    1                    20564\n",
       "     2                     8020\n",
       "1    1                     2479\n",
       "     2                      816\n",
       "2    1                     2621\n",
       "     2                      837\n",
       "3    1                     1263\n",
       "     2                      331\n",
       "4    1                      913\n",
       "     2                      265\n",
       "5    1                     1116\n",
       "     2                      468\n",
       "6    1                     2089\n",
       "     2                      995\n",
       "7    1                     4245\n",
       "     2                     2106\n",
       "8    1                     5654\n",
       "     2                     2618\n",
       "9    1                     5437\n",
       "     2                     2361\n",
       "10   1                     5128\n",
       "     2                     2095\n",
       "11   1                     5631\n",
       "     2                     2346\n",
       "12   1                     7126\n",
       "     2                     2938\n",
       "13   1                     6939\n",
       "     2                     3041\n",
       "14   1                     7054\n",
       "     2                     3316\n",
       "15   1                     7522\n",
       "     2                     3688\n",
       "16   1                     7869\n",
       "     2                     3944\n",
       "17   1                     8171\n",
       "     2                     4426\n",
       "18   1                     6203\n",
       "     2                     3265\n",
       "19   1                     4816\n",
       "     2                     2245\n",
       "20   1                     4317\n",
       "     2                     1724\n",
       "21   1                     3828\n",
       "     2                     1588\n",
       "22   1                     3808\n",
       "     2                     1490\n",
       "23   1                     3356\n",
       "     2                     1077"
      ]
     },
     "execution_count": 30,
     "metadata": {},
     "output_type": "execute_result"
    }
   ],
   "source": [
    "hour=pd.DataFrame(df1.groupby([\"hour\"])[\"SEVERITYCODE\"].value_counts())\n",
    "hour"
   ]
  },
  {
   "cell_type": "code",
   "execution_count": 29,
   "metadata": {},
   "outputs": [
    {
     "data": {
      "text/plain": [
       "<AxesSubplot:xlabel='hour'>"
      ]
     },
     "execution_count": 29,
     "metadata": {},
     "output_type": "execute_result"
    },
    {
     "data": {
      "image/png": "[encoded data removed]",
      "text/plain": [
       "<Figure size 432x288 with 1 Axes>"
      ]
     },
     "metadata": {
      "needs_background": "light"
     },
     "output_type": "display_data"
    }
   ],
   "source": [
    "hour.unstack().plot(kind=\"bar\")"
   ]
  },
  {
   "cell_type": "markdown",
   "metadata": {},
   "source": [
    "It's abnormal that the collision happens at midnight has a number that extremely high. After comparing with initial dataset, we could find that some of the value of \"INCDTTM\" does not include hour information--> so we should exclude the influence of it. \\\n",
    "Beside that, we could find a time related trend of collision cases"
   ]
  },
  {
   "cell_type": "code",
   "execution_count": 33,
   "metadata": {},
   "outputs": [
    {
     "data": {
      "text/html": [
       "<div>\n",
       "<style scoped>\n",
       "    .dataframe tbody tr th:only-of-type {\n",
       "        vertical-align: middle;\n",
       "    }\n",
       "\n",
       "    .dataframe tbody tr th {\n",
       "        vertical-align: top;\n",
       "    }\n",
       "\n",
       "    .dataframe thead th {\n",
       "        text-align: right;\n",
       "    }\n",
       "</style>\n",
       "<table border=\"1\" class=\"dataframe\">\n",
       "  <thead>\n",
       "    <tr style=\"text-align: right;\">\n",
       "      <th></th>\n",
       "      <th>day</th>\n",
       "      <th>time</th>\n",
       "      <th>PM/AM</th>\n",
       "    </tr>\n",
       "  </thead>\n",
       "  <tbody>\n",
       "    <tr>\n",
       "      <th>0</th>\n",
       "      <td>3/27/2013</td>\n",
       "      <td>2:54:00</td>\n",
       "      <td>PM</td>\n",
       "    </tr>\n",
       "    <tr>\n",
       "      <th>1</th>\n",
       "      <td>12/20/2006</td>\n",
       "      <td>6:55:00</td>\n",
       "      <td>PM</td>\n",
       "    </tr>\n",
       "    <tr>\n",
       "      <th>2</th>\n",
       "      <td>11/18/2004</td>\n",
       "      <td>10:20:00</td>\n",
       "      <td>AM</td>\n",
       "    </tr>\n",
       "    <tr>\n",
       "      <th>3</th>\n",
       "      <td>3/29/2013</td>\n",
       "      <td>9:26:00</td>\n",
       "      <td>AM</td>\n",
       "    </tr>\n",
       "    <tr>\n",
       "      <th>4</th>\n",
       "      <td>1/28/2004</td>\n",
       "      <td>8:04:00</td>\n",
       "      <td>AM</td>\n",
       "    </tr>\n",
       "  </tbody>\n",
       "</table>\n",
       "</div>"
      ],
      "text/plain": [
       "          day      time PM/AM\n",
       "0   3/27/2013   2:54:00    PM\n",
       "1  12/20/2006   6:55:00    PM\n",
       "2  11/18/2004  10:20:00    AM\n",
       "3   3/29/2013   9:26:00    AM\n",
       "4   1/28/2004   8:04:00    AM"
      ]
     },
     "execution_count": 33,
     "metadata": {},
     "output_type": "execute_result"
    }
   ],
   "source": [
    "import pandas as pd\n",
    "df_time = pd.DataFrame(df.INCDTTM.str.split(' ',5).tolist(),\n",
    "                                 columns = [\"day\",\"time\",\"PM/AM\"])\n",
    "df_time.head()"
   ]
  },
  {
   "cell_type": "code",
   "execution_count": 38,
   "metadata": {},
   "outputs": [
    {
     "data": {
      "text/plain": [
       "day          0\n",
       "time     24875\n",
       "PM/AM    24875\n",
       "dtype: int64"
      ]
     },
     "execution_count": 38,
     "metadata": {},
     "output_type": "execute_result"
    }
   ],
   "source": [
    "df_time.isnull().sum()"
   ]
  },
  {
   "cell_type": "code",
   "execution_count": 34,
   "metadata": {},
   "outputs": [
    {
     "data": {
      "text/html": [
       "<div>\n",
       "<style scoped>\n",
       "    .dataframe tbody tr th:only-of-type {\n",
       "        vertical-align: middle;\n",
       "    }\n",
       "\n",
       "    .dataframe tbody tr th {\n",
       "        vertical-align: top;\n",
       "    }\n",
       "\n",
       "    .dataframe thead th {\n",
       "        text-align: right;\n",
       "    }\n",
       "</style>\n",
       "<table border=\"1\" class=\"dataframe\">\n",
       "  <thead>\n",
       "    <tr style=\"text-align: right;\">\n",
       "      <th></th>\n",
       "      <th>SEVERITYCODE</th>\n",
       "      <th>X</th>\n",
       "      <th>Y</th>\n",
       "      <th>ADDRTYPE</th>\n",
       "      <th>WEATHER</th>\n",
       "      <th>ROADCOND</th>\n",
       "      <th>LIGHTCOND</th>\n",
       "      <th>INCDATE</th>\n",
       "      <th>INCDTTM</th>\n",
       "      <th>DayofWeek</th>\n",
       "      <th>hour</th>\n",
       "      <th>day</th>\n",
       "      <th>time</th>\n",
       "      <th>PM/AM</th>\n",
       "    </tr>\n",
       "  </thead>\n",
       "  <tbody>\n",
       "    <tr>\n",
       "      <th>0</th>\n",
       "      <td>2</td>\n",
       "      <td>-122.323148</td>\n",
       "      <td>47.703140</td>\n",
       "      <td>Intersection</td>\n",
       "      <td>Overcast</td>\n",
       "      <td>Wet</td>\n",
       "      <td>Daylight</td>\n",
       "      <td>2013-03-27 00:00:00+00:00</td>\n",
       "      <td>2013-03-27 14:54:00</td>\n",
       "      <td>2</td>\n",
       "      <td>14</td>\n",
       "      <td>3/27/2013</td>\n",
       "      <td>2:54:00</td>\n",
       "      <td>PM</td>\n",
       "    </tr>\n",
       "    <tr>\n",
       "      <th>1</th>\n",
       "      <td>1</td>\n",
       "      <td>-122.347294</td>\n",
       "      <td>47.647172</td>\n",
       "      <td>Block</td>\n",
       "      <td>Raining</td>\n",
       "      <td>Wet</td>\n",
       "      <td>Dark - Street Lights On</td>\n",
       "      <td>2006-12-20 00:00:00+00:00</td>\n",
       "      <td>2006-12-20 18:55:00</td>\n",
       "      <td>2</td>\n",
       "      <td>18</td>\n",
       "      <td>12/20/2006</td>\n",
       "      <td>6:55:00</td>\n",
       "      <td>PM</td>\n",
       "    </tr>\n",
       "    <tr>\n",
       "      <th>2</th>\n",
       "      <td>1</td>\n",
       "      <td>-122.334540</td>\n",
       "      <td>47.607871</td>\n",
       "      <td>Block</td>\n",
       "      <td>Overcast</td>\n",
       "      <td>Dry</td>\n",
       "      <td>Daylight</td>\n",
       "      <td>2004-11-18 00:00:00+00:00</td>\n",
       "      <td>2004-11-18 10:20:00</td>\n",
       "      <td>3</td>\n",
       "      <td>10</td>\n",
       "      <td>11/18/2004</td>\n",
       "      <td>10:20:00</td>\n",
       "      <td>AM</td>\n",
       "    </tr>\n",
       "    <tr>\n",
       "      <th>3</th>\n",
       "      <td>1</td>\n",
       "      <td>-122.334803</td>\n",
       "      <td>47.604803</td>\n",
       "      <td>Block</td>\n",
       "      <td>Clear</td>\n",
       "      <td>Dry</td>\n",
       "      <td>Daylight</td>\n",
       "      <td>2013-03-29 00:00:00+00:00</td>\n",
       "      <td>2013-03-29 09:26:00</td>\n",
       "      <td>4</td>\n",
       "      <td>9</td>\n",
       "      <td>3/29/2013</td>\n",
       "      <td>9:26:00</td>\n",
       "      <td>AM</td>\n",
       "    </tr>\n",
       "    <tr>\n",
       "      <th>4</th>\n",
       "      <td>2</td>\n",
       "      <td>-122.306426</td>\n",
       "      <td>47.545739</td>\n",
       "      <td>Intersection</td>\n",
       "      <td>Raining</td>\n",
       "      <td>Wet</td>\n",
       "      <td>Daylight</td>\n",
       "      <td>2004-01-28 00:00:00+00:00</td>\n",
       "      <td>2004-01-28 08:04:00</td>\n",
       "      <td>2</td>\n",
       "      <td>8</td>\n",
       "      <td>1/28/2004</td>\n",
       "      <td>8:04:00</td>\n",
       "      <td>AM</td>\n",
       "    </tr>\n",
       "  </tbody>\n",
       "</table>\n",
       "</div>"
      ],
      "text/plain": [
       "   SEVERITYCODE           X          Y      ADDRTYPE   WEATHER ROADCOND  \\\n",
       "0             2 -122.323148  47.703140  Intersection  Overcast      Wet   \n",
       "1             1 -122.347294  47.647172         Block   Raining      Wet   \n",
       "2             1 -122.334540  47.607871         Block  Overcast      Dry   \n",
       "3             1 -122.334803  47.604803         Block     Clear      Dry   \n",
       "4             2 -122.306426  47.545739  Intersection   Raining      Wet   \n",
       "\n",
       "                 LIGHTCOND                   INCDATE             INCDTTM  \\\n",
       "0                 Daylight 2013-03-27 00:00:00+00:00 2013-03-27 14:54:00   \n",
       "1  Dark - Street Lights On 2006-12-20 00:00:00+00:00 2006-12-20 18:55:00   \n",
       "2                 Daylight 2004-11-18 00:00:00+00:00 2004-11-18 10:20:00   \n",
       "3                 Daylight 2013-03-29 00:00:00+00:00 2013-03-29 09:26:00   \n",
       "4                 Daylight 2004-01-28 00:00:00+00:00 2004-01-28 08:04:00   \n",
       "\n",
       "   DayofWeek  hour         day      time PM/AM  \n",
       "0          2    14   3/27/2013   2:54:00    PM  \n",
       "1          2    18  12/20/2006   6:55:00    PM  \n",
       "2          3    10  11/18/2004  10:20:00    AM  \n",
       "3          4     9   3/29/2013   9:26:00    AM  \n",
       "4          2     8   1/28/2004   8:04:00    AM  "
      ]
     },
     "execution_count": 34,
     "metadata": {},
     "output_type": "execute_result"
    }
   ],
   "source": [
    "df1=pd.concat([df1,df_time],axis=1)\n",
    "df1.head()"
   ]
  },
  {
   "cell_type": "code",
   "execution_count": 35,
   "metadata": {},
   "outputs": [
    {
     "data": {
      "text/html": [
       "<div>\n",
       "<style scoped>\n",
       "    .dataframe tbody tr th:only-of-type {\n",
       "        vertical-align: middle;\n",
       "    }\n",
       "\n",
       "    .dataframe tbody tr th {\n",
       "        vertical-align: top;\n",
       "    }\n",
       "\n",
       "    .dataframe thead th {\n",
       "        text-align: right;\n",
       "    }\n",
       "</style>\n",
       "<table border=\"1\" class=\"dataframe\">\n",
       "  <thead>\n",
       "    <tr style=\"text-align: right;\">\n",
       "      <th></th>\n",
       "      <th>SEVERITYCODE</th>\n",
       "      <th>X</th>\n",
       "      <th>Y</th>\n",
       "      <th>DayofWeek</th>\n",
       "      <th>hour</th>\n",
       "    </tr>\n",
       "  </thead>\n",
       "  <tbody>\n",
       "    <tr>\n",
       "      <th>SEVERITYCODE</th>\n",
       "      <td>1.000000</td>\n",
       "      <td>0.010238</td>\n",
       "      <td>0.018411</td>\n",
       "      <td>-0.017101</td>\n",
       "      <td>0.027431</td>\n",
       "    </tr>\n",
       "    <tr>\n",
       "      <th>X</th>\n",
       "      <td>0.010238</td>\n",
       "      <td>1.000000</td>\n",
       "      <td>-0.160181</td>\n",
       "      <td>-0.008643</td>\n",
       "      <td>0.009141</td>\n",
       "    </tr>\n",
       "    <tr>\n",
       "      <th>Y</th>\n",
       "      <td>0.018411</td>\n",
       "      <td>-0.160181</td>\n",
       "      <td>1.000000</td>\n",
       "      <td>-0.005943</td>\n",
       "      <td>0.019126</td>\n",
       "    </tr>\n",
       "    <tr>\n",
       "      <th>DayofWeek</th>\n",
       "      <td>-0.017101</td>\n",
       "      <td>-0.008643</td>\n",
       "      <td>-0.005943</td>\n",
       "      <td>1.000000</td>\n",
       "      <td>-0.025875</td>\n",
       "    </tr>\n",
       "    <tr>\n",
       "      <th>hour</th>\n",
       "      <td>0.027431</td>\n",
       "      <td>0.009141</td>\n",
       "      <td>0.019126</td>\n",
       "      <td>-0.025875</td>\n",
       "      <td>1.000000</td>\n",
       "    </tr>\n",
       "  </tbody>\n",
       "</table>\n",
       "</div>"
      ],
      "text/plain": [
       "              SEVERITYCODE         X         Y  DayofWeek      hour\n",
       "SEVERITYCODE      1.000000  0.010238  0.018411  -0.017101  0.027431\n",
       "X                 0.010238  1.000000 -0.160181  -0.008643  0.009141\n",
       "Y                 0.018411 -0.160181  1.000000  -0.005943  0.019126\n",
       "DayofWeek        -0.017101 -0.008643 -0.005943   1.000000 -0.025875\n",
       "hour              0.027431  0.009141  0.019126  -0.025875  1.000000"
      ]
     },
     "execution_count": 35,
     "metadata": {},
     "output_type": "execute_result"
    }
   ],
   "source": [
    "df1.corr()"
   ]
  },
  {
   "cell_type": "markdown",
   "metadata": {},
   "source": [
    "Both DayofWeek and hour have no significant correlation with SEVERITY of collision"
   ]
  },
  {
   "cell_type": "code",
   "execution_count": 28,
   "metadata": {},
   "outputs": [
    {
     "data": {
      "text/html": [
       "<div>\n",
       "<style scoped>\n",
       "    .dataframe tbody tr th:only-of-type {\n",
       "        vertical-align: middle;\n",
       "    }\n",
       "\n",
       "    .dataframe tbody tr th {\n",
       "        vertical-align: top;\n",
       "    }\n",
       "\n",
       "    .dataframe thead th {\n",
       "        text-align: right;\n",
       "    }\n",
       "</style>\n",
       "<table border=\"1\" class=\"dataframe\">\n",
       "  <thead>\n",
       "    <tr style=\"text-align: right;\">\n",
       "      <th></th>\n",
       "      <th></th>\n",
       "      <th>SEVERITYCODE</th>\n",
       "    </tr>\n",
       "    <tr>\n",
       "      <th>ADDRTYPE</th>\n",
       "      <th>SEVERITYCODE</th>\n",
       "      <th></th>\n",
       "    </tr>\n",
       "  </thead>\n",
       "  <tbody>\n",
       "    <tr>\n",
       "      <th rowspan=\"2\" valign=\"top\">Block</th>\n",
       "      <th>1</th>\n",
       "      <td>92282</td>\n",
       "    </tr>\n",
       "    <tr>\n",
       "      <th>2</th>\n",
       "      <td>28737</td>\n",
       "    </tr>\n",
       "    <tr>\n",
       "      <th rowspan=\"2\" valign=\"top\">Intersection</th>\n",
       "      <th>1</th>\n",
       "      <td>35867</td>\n",
       "    </tr>\n",
       "    <tr>\n",
       "      <th>2</th>\n",
       "      <td>27263</td>\n",
       "    </tr>\n",
       "  </tbody>\n",
       "</table>\n",
       "</div>"
      ],
      "text/plain": [
       "                           SEVERITYCODE\n",
       "ADDRTYPE     SEVERITYCODE              \n",
       "Block        1                    92282\n",
       "             2                    28737\n",
       "Intersection 1                    35867\n",
       "             2                    27263"
      ]
     },
     "execution_count": 28,
     "metadata": {},
     "output_type": "execute_result"
    }
   ],
   "source": [
    "add_type = pd.DataFrame(df1.groupby([\"ADDRTYPE\"])[\"SEVERITYCODE\"].value_counts())\n",
    "add_type.rename(columns={\"SEVERITYCODE\":\"COUNT\"})\n",
    "add_type"
   ]
  },
  {
   "cell_type": "code",
   "execution_count": 29,
   "metadata": {},
   "outputs": [
    {
     "data": {
      "text/plain": [
       "<AxesSubplot:xlabel='ADDRTYPE'>"
      ]
     },
     "execution_count": 29,
     "metadata": {},
     "output_type": "execute_result"
    },
    {
     "data": {
      "image/png": "[encoded data removed]",
      "text/plain": [
       "<Figure size 432x288 with 1 Axes>"
      ]
     },
     "metadata": {
      "needs_background": "light"
     },
     "output_type": "display_data"
    }
   ],
   "source": [
    "add_type.unstack().plot(kind=\"bar\")"
   ]
  },
  {
   "cell_type": "code",
   "execution_count": 31,
   "metadata": {},
   "outputs": [
    {
     "data": {
      "text/plain": [
       "Clear                       108828\n",
       "Raining                      31980\n",
       "Overcast                     27099\n",
       "Unknown                      13846\n",
       "Snowing                        888\n",
       "Other                          765\n",
       "Fog/Smog/Smoke                 553\n",
       "Sleet/Hail/Freezing Rain       112\n",
       "Blowing Sand/Dirt               49\n",
       "Severe Crosswind                24\n",
       "Partly Cloudy                    5\n",
       "Name: WEATHER, dtype: int64"
      ]
     },
     "execution_count": 31,
     "metadata": {},
     "output_type": "execute_result"
    }
   ],
   "source": [
    "df1[\"WEATHER\"].value_counts()"
   ]
  },
  {
   "cell_type": "code",
   "execution_count": 36,
   "metadata": {},
   "outputs": [
    {
     "data": {
      "text/plain": [
       "<AxesSubplot:xlabel='WEATHER'>"
      ]
     },
     "execution_count": 36,
     "metadata": {},
     "output_type": "execute_result"
    },
    {
     "data": {
      "image/png": "[encoded data removed]",
      "text/plain": [
       "<Figure size 432x288 with 1 Axes>"
      ]
     },
     "metadata": {
      "needs_background": "light"
     },
     "output_type": "display_data"
    }
   ],
   "source": [
    "df1[\"WEATHER\"]=df1[\"WEATHER\"].replace([\"Unknown\"],\"Other\")\n",
    "df1[\"WEATHER\"]=df1[\"WEATHER\"].replace([\"Sleet/Hail/Freezing Rain\"],\"Raining\")\n",
    "df1[\"WEATHER\"]=df1[\"WEATHER\"].replace([\"Partly Cloudy\"],\"Overcast\")\n",
    "df_w=pd.DataFrame(df1.groupby([\"WEATHER\"])[\"SEVERITYCODE\"].value_counts())\n",
    "df_w.unstack().plot(kind=\"bar\")"
   ]
  },
  {
   "cell_type": "markdown",
   "metadata": {},
   "source": [
    "All kinds of weather got more type 1 severity of collision than 2."
   ]
  },
  {
   "cell_type": "code",
   "execution_count": 37,
   "metadata": {
    "collapsed": true,
    "jupyter": {
     "outputs_hidden": true
    }
   },
   "outputs": [
    {
     "data": {
      "text/plain": [
       "Dry               121866\n",
       "Wet                45999\n",
       "Unknown            13793\n",
       "Ice                 1173\n",
       "Snow/Slush           984\n",
       "Other                116\n",
       "Standing Water       102\n",
       "Sand/Mud/Dirt         63\n",
       "Oil                   53\n",
       "Name: ROADCOND, dtype: int64"
      ]
     },
     "execution_count": 37,
     "metadata": {},
     "output_type": "execute_result"
    }
   ],
   "source": [
    "df1[\"ROADCOND\"].value_counts()"
   ]
  },
  {
   "cell_type": "code",
   "execution_count": 37,
   "metadata": {},
   "outputs": [
    {
     "data": {
      "text/plain": [
       "<AxesSubplot:xlabel='ROADCOND'>"
      ]
     },
     "execution_count": 37,
     "metadata": {},
     "output_type": "execute_result"
    },
    {
     "data": {
      "image/png": "[encoded data removed]",
      "text/plain": [
       "<Figure size 432x288 with 1 Axes>"
      ]
     },
     "metadata": {
      "needs_background": "light"
     },
     "output_type": "display_data"
    }
   ],
   "source": [
    "df1[\"ROADCOND\"]=df1[\"ROADCOND\"].replace([\"Unknown\"],\"Other\")\n",
    "df_R=pd.DataFrame(df1.groupby([\"ROADCOND\"])[\"SEVERITYCODE\"].value_counts())\n",
    "df_R.unstack().plot(kind=\"bar\")"
   ]
  },
  {
   "cell_type": "code",
   "execution_count": 38,
   "metadata": {},
   "outputs": [
    {
     "data": {
      "text/plain": [
       "Daylight                    113510\n",
       "Dark - Street Lights On      47247\n",
       "Unknown                      12416\n",
       "Dusk                          5762\n",
       "Dawn                          2421\n",
       "Dark - No Street Lights       1449\n",
       "Dark - Street Lights Off      1145\n",
       "Other                          188\n",
       "Dark - Unknown Lighting         11\n",
       "Name: LIGHTCOND, dtype: int64"
      ]
     },
     "execution_count": 38,
     "metadata": {},
     "output_type": "execute_result"
    }
   ],
   "source": [
    "df1[\"LIGHTCOND\"].value_counts()"
   ]
  },
  {
   "cell_type": "code",
   "execution_count": 39,
   "metadata": {},
   "outputs": [
    {
     "data": {
      "text/plain": [
       "<AxesSubplot:xlabel='LIGHTCOND'>"
      ]
     },
     "execution_count": 39,
     "metadata": {},
     "output_type": "execute_result"
    },
    {
     "data": {
      "image/png": "[encoded data removed]",
      "text/plain": [
       "<Figure size 432x288 with 1 Axes>"
      ]
     },
     "metadata": {
      "needs_background": "light"
     },
     "output_type": "display_data"
    }
   ],
   "source": [
    "df1[\"LIGHTCOND\"]=df1[\"LIGHTCOND\"].replace([\"Dark - No Street Lights\"],\"Dark - Street Lights Off\")\n",
    "df1[\"LIGHTCOND\"]=df1[\"LIGHTCOND\"].replace([\"Dusk\",\"Dawn\"],\"Dusk/Dawn\")\n",
    "df1[\"LIGHTCOND\"]=df1[\"LIGHTCOND\"].replace([\"Dark - Unknown Lighting\",\"Unknown\"],\"Other\")\n",
    "df_l=pd.DataFrame(df1.groupby([\"LIGHTCOND\"])[\"SEVERITYCODE\"].value_counts())\n",
    "df_l.unstack().plot(kind=\"bar\")"
   ]
  },
  {
   "cell_type": "code",
   "execution_count": 40,
   "metadata": {},
   "outputs": [],
   "source": [
    "df1.to_csv(\"df1.csv\")"
   ]
  },
  {
   "cell_type": "markdown",
   "metadata": {},
   "source": [
    "- #### Visualisation with folium since their are latitude and longitude information. ####"
   ]
  },
  {
   "cell_type": "code",
   "execution_count": 44,
   "metadata": {},
   "outputs": [
    {
     "name": "stdout",
     "output_type": "stream",
     "text": [
      "Folium installed and imported!\n"
     ]
    }
   ],
   "source": [
    "import folium\n",
    "\n",
    "print('Folium installed and imported!')"
   ]
  },
  {
   "cell_type": "code",
   "execution_count": 45,
   "metadata": {},
   "outputs": [
    {
     "data": {
      "text/html": [
       "<div>\n",
       "<style scoped>\n",
       "    .dataframe tbody tr th:only-of-type {\n",
       "        vertical-align: middle;\n",
       "    }\n",
       "\n",
       "    .dataframe tbody tr th {\n",
       "        vertical-align: top;\n",
       "    }\n",
       "\n",
       "    .dataframe thead th {\n",
       "        text-align: right;\n",
       "    }\n",
       "</style>\n",
       "<table border=\"1\" class=\"dataframe\">\n",
       "  <thead>\n",
       "    <tr style=\"text-align: right;\">\n",
       "      <th></th>\n",
       "      <th>X</th>\n",
       "      <th>Y</th>\n",
       "      <th>ADDRTYPE</th>\n",
       "      <th>SEVERITYCODE</th>\n",
       "    </tr>\n",
       "  </thead>\n",
       "  <tbody>\n",
       "    <tr>\n",
       "      <th>0</th>\n",
       "      <td>-122.323148</td>\n",
       "      <td>47.703140</td>\n",
       "      <td>Intersection</td>\n",
       "      <td>2</td>\n",
       "    </tr>\n",
       "    <tr>\n",
       "      <th>1</th>\n",
       "      <td>-122.347294</td>\n",
       "      <td>47.647172</td>\n",
       "      <td>Block</td>\n",
       "      <td>1</td>\n",
       "    </tr>\n",
       "    <tr>\n",
       "      <th>2</th>\n",
       "      <td>-122.334540</td>\n",
       "      <td>47.607871</td>\n",
       "      <td>Block</td>\n",
       "      <td>1</td>\n",
       "    </tr>\n",
       "    <tr>\n",
       "      <th>3</th>\n",
       "      <td>-122.334803</td>\n",
       "      <td>47.604803</td>\n",
       "      <td>Block</td>\n",
       "      <td>1</td>\n",
       "    </tr>\n",
       "    <tr>\n",
       "      <th>4</th>\n",
       "      <td>-122.306426</td>\n",
       "      <td>47.545739</td>\n",
       "      <td>Intersection</td>\n",
       "      <td>2</td>\n",
       "    </tr>\n",
       "  </tbody>\n",
       "</table>\n",
       "</div>"
      ],
      "text/plain": [
       "            X          Y      ADDRTYPE  SEVERITYCODE\n",
       "0 -122.323148  47.703140  Intersection             2\n",
       "1 -122.347294  47.647172         Block             1\n",
       "2 -122.334540  47.607871         Block             1\n",
       "3 -122.334803  47.604803         Block             1\n",
       "4 -122.306426  47.545739  Intersection             2"
      ]
     },
     "execution_count": 45,
     "metadata": {},
     "output_type": "execute_result"
    }
   ],
   "source": [
    "col_loc=df1[[\"X\",\"Y\",\"ADDRTYPE\",\"SEVERITYCODE\"]]\n",
    "col_loc.head()"
   ]
  },
  {
   "cell_type": "code",
   "execution_count": 46,
   "metadata": {},
   "outputs": [],
   "source": [
    "col_map=folium.Map(location=[47.60480289, -122.3348033],zoom_start=12)"
   ]
  },
  {
   "cell_type": "markdown",
   "metadata": {},
   "source": [
    "As we know, there is totally 194673 cases, in order to save the computational cost,  let's just work with the first 200 objects in this dataset."
   ]
  },
  {
   "cell_type": "code",
   "execution_count": 47,
   "metadata": {
    "collapsed": true,
    "jupyter": {
     "outputs_hidden": true,
     "source_hidden": true
    }
   },
   "outputs": [
    {
     "data": {
      "text/html": [
       "<div style=\"width:100%;\"><div style=\"position:relative;width:100%;height:0;padding-bottom:60%;\"><span style=\"color:#565656\">Make this Notebook Trusted to load map: File -> Trust Notebook</span><iframe src=\"about:blank\" style=\"position:absolute;width:100%;height:100%;left:0;top:0;border:none !important;\" data-html=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 onload=\"this.contentDocument.open();this.contentDocument.write(atob(this.getAttribute('data-html')));this.contentDocument.close();\" allowfullscreen webkitallowfullscreen mozallowfullscreen></iframe></div></div>"
      ],
      "text/plain": [
       "<folium.folium.Map at 0x7f25a380cb00>"
      ]
     },
     "execution_count": 47,
     "metadata": {},
     "output_type": "execute_result"
    }
   ],
   "source": [
    "limit=200\n",
    "col_loc1=col_loc.iloc[0:limit,:]\n",
    "\n",
    "incidents = folium.map.FeatureGroup()\n",
    "\n",
    "for lat, lng, in zip(col_loc1.Y, col_loc1.X):\n",
    "    incidents.add_child(\n",
    "        folium.features.CircleMarker(\n",
    "            [lat, lng],\n",
    "            radius=5, \n",
    "            color='yellow',\n",
    "            fill=True,\n",
    "            fill_color='blue',\n",
    "            fill_opacity=0.6\n",
    "        )\n",
    "    )\n",
    "\n",
    "col_map = col_map.add_child(incidents)\n",
    "col_map"
   ]
  },
  {
   "cell_type": "code",
   "execution_count": 48,
   "metadata": {},
   "outputs": [],
   "source": [
    "from folium import plugins"
   ]
  },
  {
   "cell_type": "code",
   "execution_count": 49,
   "metadata": {},
   "outputs": [],
   "source": [
    "col_map=folium.Map(location=[47.60480289, -122.3348033],zoom_start=12)\n",
    "incidents = plugins.MarkerCluster().add_to(col_map)"
   ]
  },
  {
   "cell_type": "code",
   "execution_count": 50,
   "metadata": {
    "collapsed": true,
    "jupyter": {
     "outputs_hidden": true
    }
   },
   "outputs": [
    {
     "data": {
      "text/html": [
       "<div style=\"width:100%;\"><div style=\"position:relative;width:100%;height:0;padding-bottom:60%;\"><span style=\"color:#565656\">Make this Notebook Trusted to load map: File -> Trust Notebook</span><iframe src=\"about:blank\" style=\"position:absolute;width:100%;height:100%;left:0;top:0;border:none !important;\" data-html=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 onload=\"this.contentDocument.open();this.contentDocument.write(atob(this.getAttribute('data-html')));this.contentDocument.close();\" allowfullscreen webkitallowfullscreen mozallowfullscreen></iframe></div></div>"
      ],
      "text/plain": [
       "<folium.folium.Map at 0x7f262cdd22b0>"
      ]
     },
     "execution_count": 50,
     "metadata": {},
     "output_type": "execute_result"
    }
   ],
   "source": [
    "for lat, lng, label, in zip(col_loc1.Y, col_loc1.X, col_loc1.ADDRTYPE):\n",
    "    folium.Marker(\n",
    "        location=[lat, lng],\n",
    "        icon=None,\n",
    "        popup=label,\n",
    "    ).add_to(incidents)\n",
    "\n",
    "col_map"
   ]
  },
  {
   "cell_type": "markdown",
   "metadata": {},
   "source": [
    "To some extend, the accidents are more likely to take place in city center area. \n",
    "Along the main road (red line in the map), there is higher frequency of collision. "
   ]
  },
  {
   "cell_type": "code",
   "execution_count": 79,
   "metadata": {},
   "outputs": [],
   "source": [
    "df_col= df[[\"PERSONCOUNT\",\"PEDCOUNT\",\"PEDCYLCOUNT\",\n",
    "           \"SDOT_COLCODE\",\"PEDROWNOTGRNT\",\"SEGLANEKEY\",\"CROSSWALKKEY\"]]"
   ]
  },
  {
   "cell_type": "code",
   "execution_count": 41,
   "metadata": {},
   "outputs": [
    {
     "data": {
      "text/html": [
       "<div>\n",
       "<style scoped>\n",
       "    .dataframe tbody tr th:only-of-type {\n",
       "        vertical-align: middle;\n",
       "    }\n",
       "\n",
       "    .dataframe tbody tr th {\n",
       "        vertical-align: top;\n",
       "    }\n",
       "\n",
       "    .dataframe thead th {\n",
       "        text-align: right;\n",
       "    }\n",
       "</style>\n",
       "<table border=\"1\" class=\"dataframe\">\n",
       "  <thead>\n",
       "    <tr style=\"text-align: right;\">\n",
       "      <th></th>\n",
       "      <th>SEVERITYCODE</th>\n",
       "      <th>PERSONCOUNT</th>\n",
       "      <th>PEDCOUNT</th>\n",
       "      <th>PEDCYLCOUNT</th>\n",
       "      <th>SDOT_COLCODE</th>\n",
       "      <th>PEDROWNOTGRNT</th>\n",
       "      <th>SEGLANEKEY</th>\n",
       "      <th>CROSSWALKKEY</th>\n",
       "      <th>ADDRTYPE</th>\n",
       "    </tr>\n",
       "  </thead>\n",
       "  <tbody>\n",
       "    <tr>\n",
       "      <th>0</th>\n",
       "      <td>2</td>\n",
       "      <td>2</td>\n",
       "      <td>0</td>\n",
       "      <td>0</td>\n",
       "      <td>11</td>\n",
       "      <td>0</td>\n",
       "      <td>0</td>\n",
       "      <td>0</td>\n",
       "      <td>Intersection</td>\n",
       "    </tr>\n",
       "    <tr>\n",
       "      <th>1</th>\n",
       "      <td>1</td>\n",
       "      <td>2</td>\n",
       "      <td>0</td>\n",
       "      <td>0</td>\n",
       "      <td>16</td>\n",
       "      <td>0</td>\n",
       "      <td>0</td>\n",
       "      <td>0</td>\n",
       "      <td>Block</td>\n",
       "    </tr>\n",
       "    <tr>\n",
       "      <th>2</th>\n",
       "      <td>1</td>\n",
       "      <td>4</td>\n",
       "      <td>0</td>\n",
       "      <td>0</td>\n",
       "      <td>14</td>\n",
       "      <td>0</td>\n",
       "      <td>0</td>\n",
       "      <td>0</td>\n",
       "      <td>Block</td>\n",
       "    </tr>\n",
       "    <tr>\n",
       "      <th>3</th>\n",
       "      <td>1</td>\n",
       "      <td>3</td>\n",
       "      <td>0</td>\n",
       "      <td>0</td>\n",
       "      <td>11</td>\n",
       "      <td>0</td>\n",
       "      <td>0</td>\n",
       "      <td>0</td>\n",
       "      <td>Block</td>\n",
       "    </tr>\n",
       "    <tr>\n",
       "      <th>4</th>\n",
       "      <td>2</td>\n",
       "      <td>2</td>\n",
       "      <td>0</td>\n",
       "      <td>0</td>\n",
       "      <td>11</td>\n",
       "      <td>0</td>\n",
       "      <td>0</td>\n",
       "      <td>0</td>\n",
       "      <td>Intersection</td>\n",
       "    </tr>\n",
       "  </tbody>\n",
       "</table>\n",
       "</div>"
      ],
      "text/plain": [
       "   SEVERITYCODE  PERSONCOUNT  PEDCOUNT  PEDCYLCOUNT  SDOT_COLCODE  \\\n",
       "0             2            2         0            0            11   \n",
       "1             1            2         0            0            16   \n",
       "2             1            4         0            0            14   \n",
       "3             1            3         0            0            11   \n",
       "4             2            2         0            0            11   \n",
       "\n",
       "   PEDROWNOTGRNT  SEGLANEKEY  CROSSWALKKEY      ADDRTYPE  \n",
       "0              0           0             0  Intersection  \n",
       "1              0           0             0         Block  \n",
       "2              0           0             0         Block  \n",
       "3              0           0             0         Block  \n",
       "4              0           0             0  Intersection  "
      ]
     },
     "execution_count": 41,
     "metadata": {},
     "output_type": "execute_result"
    }
   ],
   "source": [
    "df_col=pd.concat([df_col,df1[\"ADDRTYPE\"]],axis=1)\n",
    "df_col.head()"
   ]
  },
  {
   "cell_type": "code",
   "execution_count": 42,
   "metadata": {
    "collapsed": true,
    "jupyter": {
     "outputs_hidden": true
    }
   },
   "outputs": [
    {
     "data": {
      "text/plain": [
       "SEVERITYCODE     0\n",
       "PERSONCOUNT      0\n",
       "PEDCOUNT         0\n",
       "PEDCYLCOUNT      0\n",
       "SDOT_COLCODE     0\n",
       "PEDROWNOTGRNT    0\n",
       "SEGLANEKEY       0\n",
       "CROSSWALKKEY     0\n",
       "ADDRTYPE         0\n",
       "dtype: int64"
      ]
     },
     "execution_count": 42,
     "metadata": {},
     "output_type": "execute_result"
    }
   ],
   "source": [
    "df_col.isnull().sum()"
   ]
  },
  {
   "cell_type": "code",
   "execution_count": 43,
   "metadata": {},
   "outputs": [],
   "source": [
    "df_col.to_csv(\"df_col.csv\")"
   ]
  },
  {
   "cell_type": "code",
   "execution_count": 44,
   "metadata": {},
   "outputs": [
    {
     "data": {
      "text/html": [
       "<div>\n",
       "<style scoped>\n",
       "    .dataframe tbody tr th:only-of-type {\n",
       "        vertical-align: middle;\n",
       "    }\n",
       "\n",
       "    .dataframe tbody tr th {\n",
       "        vertical-align: top;\n",
       "    }\n",
       "\n",
       "    .dataframe thead th {\n",
       "        text-align: right;\n",
       "    }\n",
       "</style>\n",
       "<table border=\"1\" class=\"dataframe\">\n",
       "  <thead>\n",
       "    <tr style=\"text-align: right;\">\n",
       "      <th></th>\n",
       "      <th>Unnamed: 0</th>\n",
       "      <th>SEVERITYCODE</th>\n",
       "      <th>PERSONCOUNT</th>\n",
       "      <th>PEDCOUNT</th>\n",
       "      <th>PEDCYLCOUNT</th>\n",
       "      <th>SDOT_COLCODE</th>\n",
       "      <th>PEDROWNOTGRNT</th>\n",
       "      <th>SEGLANEKEY</th>\n",
       "      <th>CROSSWALKKEY</th>\n",
       "      <th>ADDRTYPE</th>\n",
       "    </tr>\n",
       "  </thead>\n",
       "  <tbody>\n",
       "    <tr>\n",
       "      <th>0</th>\n",
       "      <td>0</td>\n",
       "      <td>2</td>\n",
       "      <td>2</td>\n",
       "      <td>0</td>\n",
       "      <td>0</td>\n",
       "      <td>11</td>\n",
       "      <td>0</td>\n",
       "      <td>0</td>\n",
       "      <td>0</td>\n",
       "      <td>Intersection</td>\n",
       "    </tr>\n",
       "    <tr>\n",
       "      <th>1</th>\n",
       "      <td>1</td>\n",
       "      <td>1</td>\n",
       "      <td>2</td>\n",
       "      <td>0</td>\n",
       "      <td>0</td>\n",
       "      <td>16</td>\n",
       "      <td>0</td>\n",
       "      <td>0</td>\n",
       "      <td>0</td>\n",
       "      <td>Block</td>\n",
       "    </tr>\n",
       "    <tr>\n",
       "      <th>2</th>\n",
       "      <td>2</td>\n",
       "      <td>1</td>\n",
       "      <td>4</td>\n",
       "      <td>0</td>\n",
       "      <td>0</td>\n",
       "      <td>14</td>\n",
       "      <td>0</td>\n",
       "      <td>0</td>\n",
       "      <td>0</td>\n",
       "      <td>Block</td>\n",
       "    </tr>\n",
       "    <tr>\n",
       "      <th>3</th>\n",
       "      <td>3</td>\n",
       "      <td>1</td>\n",
       "      <td>3</td>\n",
       "      <td>0</td>\n",
       "      <td>0</td>\n",
       "      <td>11</td>\n",
       "      <td>0</td>\n",
       "      <td>0</td>\n",
       "      <td>0</td>\n",
       "      <td>Block</td>\n",
       "    </tr>\n",
       "    <tr>\n",
       "      <th>4</th>\n",
       "      <td>4</td>\n",
       "      <td>2</td>\n",
       "      <td>2</td>\n",
       "      <td>0</td>\n",
       "      <td>0</td>\n",
       "      <td>11</td>\n",
       "      <td>0</td>\n",
       "      <td>0</td>\n",
       "      <td>0</td>\n",
       "      <td>Intersection</td>\n",
       "    </tr>\n",
       "  </tbody>\n",
       "</table>\n",
       "</div>"
      ],
      "text/plain": [
       "   Unnamed: 0  SEVERITYCODE  PERSONCOUNT  PEDCOUNT  PEDCYLCOUNT  SDOT_COLCODE  \\\n",
       "0           0             2            2         0            0            11   \n",
       "1           1             1            2         0            0            16   \n",
       "2           2             1            4         0            0            14   \n",
       "3           3             1            3         0            0            11   \n",
       "4           4             2            2         0            0            11   \n",
       "\n",
       "   PEDROWNOTGRNT  SEGLANEKEY  CROSSWALKKEY      ADDRTYPE  \n",
       "0              0           0             0  Intersection  \n",
       "1              0           0             0         Block  \n",
       "2              0           0             0         Block  \n",
       "3              0           0             0         Block  \n",
       "4              0           0             0  Intersection  "
      ]
     },
     "execution_count": 44,
     "metadata": {},
     "output_type": "execute_result"
    }
   ],
   "source": [
    "df_col=pd.read_csv(\"df_col.csv\")\n",
    "df_col.head()"
   ]
  },
  {
   "cell_type": "markdown",
   "metadata": {},
   "source": [
    "# Modelling with Classification method #"
   ]
  },
  {
   "cell_type": "code",
   "execution_count": 46,
   "metadata": {},
   "outputs": [],
   "source": [
    "import itertools\n",
    "from matplotlib.ticker import NullFormatter\n",
    "import matplotlib.ticker as ticker\n",
    "from sklearn import preprocessing"
   ]
  },
  {
   "cell_type": "code",
   "execution_count": 47,
   "metadata": {},
   "outputs": [
    {
     "data": {
      "text/html": [
       "<div>\n",
       "<style scoped>\n",
       "    .dataframe tbody tr th:only-of-type {\n",
       "        vertical-align: middle;\n",
       "    }\n",
       "\n",
       "    .dataframe tbody tr th {\n",
       "        vertical-align: top;\n",
       "    }\n",
       "\n",
       "    .dataframe thead th {\n",
       "        text-align: right;\n",
       "    }\n",
       "</style>\n",
       "<table border=\"1\" class=\"dataframe\">\n",
       "  <thead>\n",
       "    <tr style=\"text-align: right;\">\n",
       "      <th></th>\n",
       "      <th>Unnamed: 0</th>\n",
       "      <th>SEVERITYCODE</th>\n",
       "      <th>PERSONCOUNT</th>\n",
       "      <th>PEDCOUNT</th>\n",
       "      <th>PEDCYLCOUNT</th>\n",
       "      <th>SDOT_COLCODE</th>\n",
       "      <th>PEDROWNOTGRNT</th>\n",
       "      <th>SEGLANEKEY</th>\n",
       "      <th>CROSSWALKKEY</th>\n",
       "      <th>ADDRTYPE</th>\n",
       "    </tr>\n",
       "  </thead>\n",
       "  <tbody>\n",
       "    <tr>\n",
       "      <th>0</th>\n",
       "      <td>0</td>\n",
       "      <td>2</td>\n",
       "      <td>2</td>\n",
       "      <td>0</td>\n",
       "      <td>0</td>\n",
       "      <td>11</td>\n",
       "      <td>0</td>\n",
       "      <td>0</td>\n",
       "      <td>0</td>\n",
       "      <td>Intersection</td>\n",
       "    </tr>\n",
       "    <tr>\n",
       "      <th>1</th>\n",
       "      <td>1</td>\n",
       "      <td>1</td>\n",
       "      <td>2</td>\n",
       "      <td>0</td>\n",
       "      <td>0</td>\n",
       "      <td>16</td>\n",
       "      <td>0</td>\n",
       "      <td>0</td>\n",
       "      <td>0</td>\n",
       "      <td>Block</td>\n",
       "    </tr>\n",
       "    <tr>\n",
       "      <th>2</th>\n",
       "      <td>2</td>\n",
       "      <td>1</td>\n",
       "      <td>4</td>\n",
       "      <td>0</td>\n",
       "      <td>0</td>\n",
       "      <td>14</td>\n",
       "      <td>0</td>\n",
       "      <td>0</td>\n",
       "      <td>0</td>\n",
       "      <td>Block</td>\n",
       "    </tr>\n",
       "    <tr>\n",
       "      <th>3</th>\n",
       "      <td>3</td>\n",
       "      <td>1</td>\n",
       "      <td>3</td>\n",
       "      <td>0</td>\n",
       "      <td>0</td>\n",
       "      <td>11</td>\n",
       "      <td>0</td>\n",
       "      <td>0</td>\n",
       "      <td>0</td>\n",
       "      <td>Block</td>\n",
       "    </tr>\n",
       "    <tr>\n",
       "      <th>4</th>\n",
       "      <td>4</td>\n",
       "      <td>2</td>\n",
       "      <td>2</td>\n",
       "      <td>0</td>\n",
       "      <td>0</td>\n",
       "      <td>11</td>\n",
       "      <td>0</td>\n",
       "      <td>0</td>\n",
       "      <td>0</td>\n",
       "      <td>Intersection</td>\n",
       "    </tr>\n",
       "  </tbody>\n",
       "</table>\n",
       "</div>"
      ],
      "text/plain": [
       "   Unnamed: 0  SEVERITYCODE  PERSONCOUNT  PEDCOUNT  PEDCYLCOUNT  SDOT_COLCODE  \\\n",
       "0           0             2            2         0            0            11   \n",
       "1           1             1            2         0            0            16   \n",
       "2           2             1            4         0            0            14   \n",
       "3           3             1            3         0            0            11   \n",
       "4           4             2            2         0            0            11   \n",
       "\n",
       "   PEDROWNOTGRNT  SEGLANEKEY  CROSSWALKKEY      ADDRTYPE  \n",
       "0              0           0             0  Intersection  \n",
       "1              0           0             0         Block  \n",
       "2              0           0             0         Block  \n",
       "3              0           0             0         Block  \n",
       "4              0           0             0  Intersection  "
      ]
     },
     "execution_count": 47,
     "metadata": {},
     "output_type": "execute_result"
    }
   ],
   "source": [
    "df_col.head()"
   ]
  },
  {
   "cell_type": "code",
   "execution_count": 48,
   "metadata": {},
   "outputs": [],
   "source": [
    "Feature=df_col[[\"PERSONCOUNT\",\"PEDCOUNT\",\"PEDCYLCOUNT\",\"SDOT_COLCODE\",\"PEDROWNOTGRNT\",\n",
    "                \"SEGLANEKEY\",\"CROSSWALKKEY\",\"ADDRTYPE\"]]"
   ]
  },
  {
   "cell_type": "code",
   "execution_count": 49,
   "metadata": {},
   "outputs": [
    {
     "data": {
      "text/html": [
       "<div>\n",
       "<style scoped>\n",
       "    .dataframe tbody tr th:only-of-type {\n",
       "        vertical-align: middle;\n",
       "    }\n",
       "\n",
       "    .dataframe tbody tr th {\n",
       "        vertical-align: top;\n",
       "    }\n",
       "\n",
       "    .dataframe thead th {\n",
       "        text-align: right;\n",
       "    }\n",
       "</style>\n",
       "<table border=\"1\" class=\"dataframe\">\n",
       "  <thead>\n",
       "    <tr style=\"text-align: right;\">\n",
       "      <th></th>\n",
       "      <th>Block</th>\n",
       "      <th>Intersection</th>\n",
       "    </tr>\n",
       "  </thead>\n",
       "  <tbody>\n",
       "    <tr>\n",
       "      <th>0</th>\n",
       "      <td>0</td>\n",
       "      <td>1</td>\n",
       "    </tr>\n",
       "    <tr>\n",
       "      <th>1</th>\n",
       "      <td>1</td>\n",
       "      <td>0</td>\n",
       "    </tr>\n",
       "    <tr>\n",
       "      <th>2</th>\n",
       "      <td>1</td>\n",
       "      <td>0</td>\n",
       "    </tr>\n",
       "    <tr>\n",
       "      <th>3</th>\n",
       "      <td>1</td>\n",
       "      <td>0</td>\n",
       "    </tr>\n",
       "    <tr>\n",
       "      <th>4</th>\n",
       "      <td>0</td>\n",
       "      <td>1</td>\n",
       "    </tr>\n",
       "  </tbody>\n",
       "</table>\n",
       "</div>"
      ],
      "text/plain": [
       "   Block  Intersection\n",
       "0      0             1\n",
       "1      1             0\n",
       "2      1             0\n",
       "3      1             0\n",
       "4      0             1"
      ]
     },
     "execution_count": 49,
     "metadata": {},
     "output_type": "execute_result"
    }
   ],
   "source": [
    "df_addt =pd.get_dummies(Feature[\"ADDRTYPE\"])\n",
    "df_addt.head()"
   ]
  },
  {
   "cell_type": "code",
   "execution_count": 50,
   "metadata": {},
   "outputs": [
    {
     "data": {
      "text/html": [
       "<div>\n",
       "<style scoped>\n",
       "    .dataframe tbody tr th:only-of-type {\n",
       "        vertical-align: middle;\n",
       "    }\n",
       "\n",
       "    .dataframe tbody tr th {\n",
       "        vertical-align: top;\n",
       "    }\n",
       "\n",
       "    .dataframe thead th {\n",
       "        text-align: right;\n",
       "    }\n",
       "</style>\n",
       "<table border=\"1\" class=\"dataframe\">\n",
       "  <thead>\n",
       "    <tr style=\"text-align: right;\">\n",
       "      <th></th>\n",
       "      <th>PERSONCOUNT</th>\n",
       "      <th>PEDCOUNT</th>\n",
       "      <th>PEDCYLCOUNT</th>\n",
       "      <th>SDOT_COLCODE</th>\n",
       "      <th>PEDROWNOTGRNT</th>\n",
       "      <th>SEGLANEKEY</th>\n",
       "      <th>CROSSWALKKEY</th>\n",
       "      <th>Block</th>\n",
       "      <th>Intersection</th>\n",
       "    </tr>\n",
       "  </thead>\n",
       "  <tbody>\n",
       "    <tr>\n",
       "      <th>0</th>\n",
       "      <td>2</td>\n",
       "      <td>0</td>\n",
       "      <td>0</td>\n",
       "      <td>11</td>\n",
       "      <td>0</td>\n",
       "      <td>0</td>\n",
       "      <td>0</td>\n",
       "      <td>0</td>\n",
       "      <td>1</td>\n",
       "    </tr>\n",
       "    <tr>\n",
       "      <th>1</th>\n",
       "      <td>2</td>\n",
       "      <td>0</td>\n",
       "      <td>0</td>\n",
       "      <td>16</td>\n",
       "      <td>0</td>\n",
       "      <td>0</td>\n",
       "      <td>0</td>\n",
       "      <td>1</td>\n",
       "      <td>0</td>\n",
       "    </tr>\n",
       "    <tr>\n",
       "      <th>2</th>\n",
       "      <td>4</td>\n",
       "      <td>0</td>\n",
       "      <td>0</td>\n",
       "      <td>14</td>\n",
       "      <td>0</td>\n",
       "      <td>0</td>\n",
       "      <td>0</td>\n",
       "      <td>1</td>\n",
       "      <td>0</td>\n",
       "    </tr>\n",
       "    <tr>\n",
       "      <th>3</th>\n",
       "      <td>3</td>\n",
       "      <td>0</td>\n",
       "      <td>0</td>\n",
       "      <td>11</td>\n",
       "      <td>0</td>\n",
       "      <td>0</td>\n",
       "      <td>0</td>\n",
       "      <td>1</td>\n",
       "      <td>0</td>\n",
       "    </tr>\n",
       "    <tr>\n",
       "      <th>4</th>\n",
       "      <td>2</td>\n",
       "      <td>0</td>\n",
       "      <td>0</td>\n",
       "      <td>11</td>\n",
       "      <td>0</td>\n",
       "      <td>0</td>\n",
       "      <td>0</td>\n",
       "      <td>0</td>\n",
       "      <td>1</td>\n",
       "    </tr>\n",
       "  </tbody>\n",
       "</table>\n",
       "</div>"
      ],
      "text/plain": [
       "   PERSONCOUNT  PEDCOUNT  PEDCYLCOUNT  SDOT_COLCODE  PEDROWNOTGRNT  \\\n",
       "0            2         0            0            11              0   \n",
       "1            2         0            0            16              0   \n",
       "2            4         0            0            14              0   \n",
       "3            3         0            0            11              0   \n",
       "4            2         0            0            11              0   \n",
       "\n",
       "   SEGLANEKEY  CROSSWALKKEY  Block  Intersection  \n",
       "0           0             0      0             1  \n",
       "1           0             0      1             0  \n",
       "2           0             0      1             0  \n",
       "3           0             0      1             0  \n",
       "4           0             0      0             1  "
      ]
     },
     "execution_count": 50,
     "metadata": {},
     "output_type": "execute_result"
    }
   ],
   "source": [
    "Feature=pd.concat([Feature,df_addt],axis=1)\n",
    "Feature=Feature.drop([\"ADDRTYPE\"],axis=1)\n",
    "Feature.head()"
   ]
  },
  {
   "cell_type": "code",
   "execution_count": 51,
   "metadata": {},
   "outputs": [
    {
     "name": "stderr",
     "output_type": "stream",
     "text": [
      "/home/jupyterlab/conda/envs/python/lib/python3.6/site-packages/sklearn/preprocessing/data.py:625: DataConversionWarning: Data with input dtype uint8, int64 were all converted to float64 by StandardScaler.\n",
      "  return self.partial_fit(X, y)\n",
      "/home/jupyterlab/conda/envs/python/lib/python3.6/site-packages/ipykernel_launcher.py:2: DataConversionWarning: Data with input dtype uint8, int64 were all converted to float64 by StandardScaler.\n",
      "  \n"
     ]
    },
    {
     "data": {
      "text/plain": [
       "array([[-0.34451586, -0.19178566, -0.17346616, -0.45371376, -0.16077402,\n",
       "        -0.08241143, -0.1379062 , -1.38455077,  1.38455077],\n",
       "       [-0.34451586, -0.19178566, -0.17346616,  0.29223677, -0.16077402,\n",
       "        -0.08241143, -0.1379062 ,  0.72225593, -0.72225593],\n",
       "       [ 1.12753043, -0.19178566, -0.17346616, -0.00614344, -0.16077402,\n",
       "        -0.08241143, -0.1379062 ,  0.72225593, -0.72225593],\n",
       "       [ 0.39150729, -0.19178566, -0.17346616, -0.45371376, -0.16077402,\n",
       "        -0.08241143, -0.1379062 ,  0.72225593, -0.72225593],\n",
       "       [-0.34451586, -0.19178566, -0.17346616, -0.45371376, -0.16077402,\n",
       "        -0.08241143, -0.1379062 , -1.38455077,  1.38455077]])"
      ]
     },
     "execution_count": 51,
     "metadata": {},
     "output_type": "execute_result"
    }
   ],
   "source": [
    "X = Feature\n",
    "X = preprocessing.StandardScaler().fit(X).transform(X)\n",
    "X [0:5]"
   ]
  },
  {
   "cell_type": "code",
   "execution_count": 60,
   "metadata": {},
   "outputs": [
    {
     "data": {
      "text/plain": [
       "array([2, 1, 1, 1, 2, 1, 1, 2, 1, 2])"
      ]
     },
     "execution_count": 60,
     "metadata": {},
     "output_type": "execute_result"
    }
   ],
   "source": [
    "y=df_col[\"SEVERITYCODE\"].values\n",
    "y[0:10]"
   ]
  },
  {
   "cell_type": "markdown",
   "metadata": {},
   "source": [
    "### Train/ Test dataset split ###"
   ]
  },
  {
   "cell_type": "code",
   "execution_count": 53,
   "metadata": {},
   "outputs": [
    {
     "name": "stdout",
     "output_type": "stream",
     "text": [
      "Train set: (147319, 9) (147319,)\n",
      "Test set: (36830, 9) (36830,)\n"
     ]
    }
   ],
   "source": [
    "from sklearn.model_selection import train_test_split\n",
    "X_train, X_test, y_train, y_test = train_test_split(X, y, test_size=0.2, random_state=4)\n",
    "print ('Train set:', X_train.shape,  y_train.shape)\n",
    "print ('Test set:', X_test.shape,  y_test.shape)"
   ]
  },
  {
   "cell_type": "markdown",
   "metadata": {},
   "source": [
    "### Logistic Regression ###"
   ]
  },
  {
   "cell_type": "code",
   "execution_count": 54,
   "metadata": {},
   "outputs": [
    {
     "data": {
      "text/plain": [
       "KNeighborsClassifier(algorithm='auto', leaf_size=30, metric='minkowski',\n",
       "           metric_params=None, n_jobs=None, n_neighbors=3, p=2,\n",
       "           weights='uniform')"
      ]
     },
     "execution_count": 54,
     "metadata": {},
     "output_type": "execute_result"
    }
   ],
   "source": [
    "from sklearn.neighbors import KNeighborsClassifier\n",
    "k = 3\n",
    "#Train Model and Predict  \n",
    "kNN_model = KNeighborsClassifier(n_neighbors=k).fit(X_train,y_train)\n",
    "kNN_model"
   ]
  },
  {
   "cell_type": "code",
   "execution_count": 55,
   "metadata": {
    "collapsed": true,
    "jupyter": {
     "outputs_hidden": true
    }
   },
   "outputs": [
    {
     "data": {
      "text/plain": [
       "array([1, 1, 2, 1, 1])"
      ]
     },
     "execution_count": 55,
     "metadata": {},
     "output_type": "execute_result"
    }
   ],
   "source": [
    "yhat = kNN_model.predict(X_test)\n",
    "yhat[0:5]"
   ]
  },
  {
   "cell_type": "markdown",
   "metadata": {},
   "source": [
    "- select the best k "
   ]
  },
  {
   "cell_type": "code",
   "execution_count": 56,
   "metadata": {},
   "outputs": [
    {
     "data": {
      "text/plain": [
       "array([0.64412164, 0.6572088 , 0.65120825, 0.73983166, 0.74083627,\n",
       "       0.74306272, 0.74235677, 0.74227532, 0.74330709])"
      ]
     },
     "execution_count": 56,
     "metadata": {},
     "output_type": "execute_result"
    }
   ],
   "source": [
    "# Best k\n",
    "Ks=10\n",
    "mean_acc=np.zeros((Ks-1))\n",
    "std_acc=np.zeros((Ks-1))\n",
    "ConfustionMx=[];\n",
    "for n in range(1,Ks):\n",
    "    \n",
    "    #Train Model and Predict  \n",
    "    kNN_model = KNeighborsClassifier(n_neighbors=n).fit(X_train,y_train)\n",
    "    yhat = kNN_model.predict(X_test)\n",
    "    \n",
    "    \n",
    "    mean_acc[n-1]=np.mean(yhat==y_test);\n",
    "    \n",
    "    std_acc[n-1]=np.std(yhat==y_test)/np.sqrt(yhat.shape[0])\n",
    "mean_acc"
   ]
  },
  {
   "cell_type": "code",
   "execution_count": 57,
   "metadata": {},
   "outputs": [
    {
     "data": {
      "image/png": "[encoded data removed]",
      "text/plain": [
       "<Figure size 432x288 with 1 Axes>"
      ]
     },
     "metadata": {
      "needs_background": "light"
     },
     "output_type": "display_data"
    }
   ],
   "source": [
    "plt.plot(range(1,Ks),mean_acc,'g')\n",
    "plt.fill_between(range(1,Ks),mean_acc - 1 * std_acc,mean_acc + 1 * std_acc, alpha=0.10)\n",
    "plt.legend(('Accuracy ', '+/- 3xstd'))\n",
    "plt.ylabel('Accuracy ')\n",
    "plt.xlabel('Number of Nabors (K)')\n",
    "plt.tight_layout()\n",
    "plt.show()"
   ]
  },
  {
   "cell_type": "markdown",
   "metadata": {},
   "source": [
    "as k>3, the accuracy improve up to around 0.74 and relative stable--> here: select k=4"
   ]
  },
  {
   "cell_type": "code",
   "execution_count": 59,
   "metadata": {},
   "outputs": [
    {
     "data": {
      "text/plain": [
       "array([1, 1, 2, 1, 1])"
      ]
     },
     "execution_count": 59,
     "metadata": {},
     "output_type": "execute_result"
    }
   ],
   "source": [
    "k = 7\n",
    "#Train Model and Predict  \n",
    "kNN_model = KNeighborsClassifier(n_neighbors=k).fit(X_train,y_train)\n",
    "yhat = kNN_model.predict(X_test)\n",
    "yhat[0:5]"
   ]
  },
  {
   "cell_type": "markdown",
   "metadata": {},
   "source": [
    "- Model evaluation"
   ]
  },
  {
   "cell_type": "code",
   "execution_count": 62,
   "metadata": {},
   "outputs": [],
   "source": [
    "from sklearn.metrics import jaccard_similarity_score\n",
    "from sklearn.metrics import f1_score"
   ]
  },
  {
   "cell_type": "code",
   "execution_count": 65,
   "metadata": {},
   "outputs": [
    {
     "name": "stdout",
     "output_type": "stream",
     "text": [
      "KNN Jaccard index: 0.74\n",
      "KNN F1-score: 0.72\n"
     ]
    }
   ],
   "source": [
    "print(\"KNN Jaccard index: %.2f\" % jaccard_similarity_score(y_test, yhat))\n",
    "print(\"KNN F1-score: %.2f\" % f1_score(y_test, yhat, average='weighted') )"
   ]
  },
  {
   "cell_type": "code",
   "execution_count": null,
   "metadata": {},
   "outputs": [],
   "source": []
  }
 ],
 "metadata": {
  "kernelspec": {
   "display_name": "Python",
   "language": "python",
   "name": "conda-env-python-py"
  },
  "language_info": {
   "codemirror_mode": {
    "name": "ipython",
    "version": 3
   },
   "file_extension": ".py",
   "mimetype": "text/x-python",
   "name": "python",
   "nbconvert_exporter": "python",
   "pygments_lexer": "ipython3",
   "version": "3.6.11"
  }
 },
 "nbformat": 4,
 "nbformat_minor": 4
}
